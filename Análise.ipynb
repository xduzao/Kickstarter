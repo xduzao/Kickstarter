{
 "cells": [
  {
   "cell_type": "code",
   "execution_count": 1,
   "id": "c8eaa155-20f3-4445-b1f0-89c5319d5a32",
   "metadata": {},
   "outputs": [],
   "source": [
    "from datetime import datetime\n",
    "\n",
    "import pandas as pd\n",
    "import matplotlib.pyplot as plt\n",
    "\n",
    "\n",
    "kickstarter_df = pd.read_csv(\"ks-projects-201801.csv\")\n",
    "\n",
    "kickstarter_df.sort_values(by=['launched'], inplace=True)\n",
    "\n",
    "kickstarter_df['deadline'] = kickstarter_df['deadline'].apply(\n",
    "    lambda d: datetime.strptime(d, '%Y-%m-%d'))\n",
    "kickstarter_df['launched'] = kickstarter_df['launched'].apply(\n",
    "    lambda d: datetime.strptime(d, '%Y-%m-%d %H:%M:%S'))"
   ]
  },
  {
   "cell_type": "code",
   "execution_count": 2,
   "id": "18fe33b0-2823-4661-8f26-a43d3aacff77",
   "metadata": {},
   "outputs": [
    {
     "data": {
      "text/html": [
       "<div>\n",
       "<style scoped>\n",
       "    .dataframe tbody tr th:only-of-type {\n",
       "        vertical-align: middle;\n",
       "    }\n",
       "\n",
       "    .dataframe tbody tr th {\n",
       "        vertical-align: top;\n",
       "    }\n",
       "\n",
       "    .dataframe thead th {\n",
       "        text-align: right;\n",
       "    }\n",
       "</style>\n",
       "<table border=\"1\" class=\"dataframe\">\n",
       "  <thead>\n",
       "    <tr style=\"text-align: right;\">\n",
       "      <th></th>\n",
       "      <th>ID</th>\n",
       "      <th>name</th>\n",
       "      <th>category</th>\n",
       "      <th>main_category</th>\n",
       "      <th>currency</th>\n",
       "      <th>deadline</th>\n",
       "      <th>goal</th>\n",
       "      <th>launched</th>\n",
       "      <th>pledged</th>\n",
       "      <th>state</th>\n",
       "      <th>backers</th>\n",
       "      <th>country</th>\n",
       "      <th>usd pledged</th>\n",
       "      <th>usd_pledged_real</th>\n",
       "      <th>usd_goal_real</th>\n",
       "    </tr>\n",
       "  </thead>\n",
       "  <tbody>\n",
       "    <tr>\n",
       "      <th>75397</th>\n",
       "      <td>1384087152</td>\n",
       "      <td>\"ICHOR\"  (Canceled)</td>\n",
       "      <td>Film &amp; Video</td>\n",
       "      <td>Film &amp; Video</td>\n",
       "      <td>USD</td>\n",
       "      <td>2010-05-21</td>\n",
       "      <td>700.0</td>\n",
       "      <td>1970-01-01 01:00:00</td>\n",
       "      <td>0.0</td>\n",
       "      <td>canceled</td>\n",
       "      <td>0</td>\n",
       "      <td>US</td>\n",
       "      <td>0.0</td>\n",
       "      <td>0.0</td>\n",
       "      <td>700.00</td>\n",
       "    </tr>\n",
       "    <tr>\n",
       "      <th>319002</th>\n",
       "      <td>69489148</td>\n",
       "      <td>Student Auditions Music 2015</td>\n",
       "      <td>Publishing</td>\n",
       "      <td>Publishing</td>\n",
       "      <td>CHF</td>\n",
       "      <td>2015-10-31</td>\n",
       "      <td>1900.0</td>\n",
       "      <td>1970-01-01 01:00:00</td>\n",
       "      <td>0.0</td>\n",
       "      <td>suspended</td>\n",
       "      <td>0</td>\n",
       "      <td>CH</td>\n",
       "      <td>0.0</td>\n",
       "      <td>0.0</td>\n",
       "      <td>1905.97</td>\n",
       "    </tr>\n",
       "    <tr>\n",
       "      <th>2842</th>\n",
       "      <td>1014746686</td>\n",
       "      <td>Salt of the Earth: A Dead Sea Movie (Canceled)</td>\n",
       "      <td>Film &amp; Video</td>\n",
       "      <td>Film &amp; Video</td>\n",
       "      <td>USD</td>\n",
       "      <td>2010-09-15</td>\n",
       "      <td>5000.0</td>\n",
       "      <td>1970-01-01 01:00:00</td>\n",
       "      <td>0.0</td>\n",
       "      <td>canceled</td>\n",
       "      <td>0</td>\n",
       "      <td>US</td>\n",
       "      <td>0.0</td>\n",
       "      <td>0.0</td>\n",
       "      <td>5000.00</td>\n",
       "    </tr>\n",
       "    <tr>\n",
       "      <th>94579</th>\n",
       "      <td>1480763647</td>\n",
       "      <td>Support Solo Theater! Help \"Ungrateful Daughte...</td>\n",
       "      <td>Theater</td>\n",
       "      <td>Theater</td>\n",
       "      <td>USD</td>\n",
       "      <td>2010-06-01</td>\n",
       "      <td>4000.0</td>\n",
       "      <td>1970-01-01 01:00:00</td>\n",
       "      <td>0.0</td>\n",
       "      <td>canceled</td>\n",
       "      <td>0</td>\n",
       "      <td>US</td>\n",
       "      <td>0.0</td>\n",
       "      <td>0.0</td>\n",
       "      <td>4000.00</td>\n",
       "    </tr>\n",
       "    <tr>\n",
       "      <th>247913</th>\n",
       "      <td>330942060</td>\n",
       "      <td>Help RIZ Make A Charity Album: 8 Songs, 8 Caus...</td>\n",
       "      <td>Music</td>\n",
       "      <td>Music</td>\n",
       "      <td>USD</td>\n",
       "      <td>2010-05-04</td>\n",
       "      <td>10000.0</td>\n",
       "      <td>1970-01-01 01:00:00</td>\n",
       "      <td>0.0</td>\n",
       "      <td>canceled</td>\n",
       "      <td>0</td>\n",
       "      <td>US</td>\n",
       "      <td>0.0</td>\n",
       "      <td>0.0</td>\n",
       "      <td>10000.00</td>\n",
       "    </tr>\n",
       "  </tbody>\n",
       "</table>\n",
       "</div>"
      ],
      "text/plain": [
       "                ID                                               name  \\\n",
       "75397   1384087152                                \"ICHOR\"  (Canceled)   \n",
       "319002    69489148                       Student Auditions Music 2015   \n",
       "2842    1014746686     Salt of the Earth: A Dead Sea Movie (Canceled)   \n",
       "94579   1480763647  Support Solo Theater! Help \"Ungrateful Daughte...   \n",
       "247913   330942060  Help RIZ Make A Charity Album: 8 Songs, 8 Caus...   \n",
       "\n",
       "            category main_category currency   deadline     goal  \\\n",
       "75397   Film & Video  Film & Video      USD 2010-05-21    700.0   \n",
       "319002    Publishing    Publishing      CHF 2015-10-31   1900.0   \n",
       "2842    Film & Video  Film & Video      USD 2010-09-15   5000.0   \n",
       "94579        Theater       Theater      USD 2010-06-01   4000.0   \n",
       "247913         Music         Music      USD 2010-05-04  10000.0   \n",
       "\n",
       "                  launched  pledged      state  backers country  usd pledged  \\\n",
       "75397  1970-01-01 01:00:00      0.0   canceled        0      US          0.0   \n",
       "319002 1970-01-01 01:00:00      0.0  suspended        0      CH          0.0   \n",
       "2842   1970-01-01 01:00:00      0.0   canceled        0      US          0.0   \n",
       "94579  1970-01-01 01:00:00      0.0   canceled        0      US          0.0   \n",
       "247913 1970-01-01 01:00:00      0.0   canceled        0      US          0.0   \n",
       "\n",
       "        usd_pledged_real  usd_goal_real  \n",
       "75397                0.0         700.00  \n",
       "319002               0.0        1905.97  \n",
       "2842                 0.0        5000.00  \n",
       "94579                0.0        4000.00  \n",
       "247913               0.0       10000.00  "
      ]
     },
     "execution_count": 2,
     "metadata": {},
     "output_type": "execute_result"
    }
   ],
   "source": [
    "kickstarter_df.head()"
   ]
  },
  {
   "cell_type": "code",
   "execution_count": 3,
   "id": "84ede475-51ef-43dc-882c-66a8dc5ddfe4",
   "metadata": {},
   "outputs": [
    {
     "data": {
      "text/plain": [
       "array(['canceled', 'suspended', 'failed', 'successful', 'undefined',\n",
       "       'live'], dtype=object)"
      ]
     },
     "execution_count": 3,
     "metadata": {},
     "output_type": "execute_result"
    }
   ],
   "source": [
    "kickstarter_df['state'].unique()"
   ]
  },
  {
   "cell_type": "code",
   "execution_count": null,
   "id": "1ca3272d-7482-4653-aa4f-39f24fb60a71",
   "metadata": {},
   "outputs": [],
   "source": []
  },
  {
   "cell_type": "code",
   "execution_count": 4,
   "id": "85bcba6d-afc0-40b8-bb7a-b87d49b9fd6c",
   "metadata": {},
   "outputs": [
    {
     "data": {
      "text/plain": [
       "Timestamp('2018-01-02 15:02:31')"
      ]
     },
     "execution_count": 4,
     "metadata": {},
     "output_type": "execute_result"
    }
   ],
   "source": [
    "kickstarter_df['launched'].max()"
   ]
  },
  {
   "cell_type": "code",
   "execution_count": 5,
   "id": "8fff43ee-1b3f-4859-aed9-2143a6322d6e",
   "metadata": {},
   "outputs": [
    {
     "data": {
      "text/plain": [
       "Timestamp('1970-01-01 01:00:00')"
      ]
     },
     "execution_count": 5,
     "metadata": {},
     "output_type": "execute_result"
    }
   ],
   "source": [
    "kickstarter_df['launched'].min()"
   ]
  },
  {
   "cell_type": "code",
   "execution_count": 6,
   "id": "a01fe877-0d85-4771-ad17-2fdee14cfacf",
   "metadata": {},
   "outputs": [],
   "source": [
    "kickstarter_df = kickstarter_df[\n",
    "    (kickstarter_df['state'] != 'live') \n",
    "    & (kickstarter_df['state'] != 'undefined')\n",
    "    & (kickstarter_df['state'] != 'canceled')\n",
    "    & (kickstarter_df['state'] != 'suspended')]"
   ]
  },
  {
   "cell_type": "code",
   "execution_count": 7,
   "id": "46009e5d-4172-49ac-a6be-015cdd02c0b2",
   "metadata": {},
   "outputs": [
    {
     "data": {
      "text/plain": [
       "array(['failed', 'successful'], dtype=object)"
      ]
     },
     "execution_count": 7,
     "metadata": {},
     "output_type": "execute_result"
    }
   ],
   "source": [
    "kickstarter_df['state'].unique()"
   ]
  },
  {
   "cell_type": "code",
   "execution_count": 8,
   "id": "ec848d77-fd48-4e72-8100-5f94b401cc69",
   "metadata": {},
   "outputs": [
    {
     "data": {
      "text/plain": [
       "Timestamp('2009-04-21 21:02:48')"
      ]
     },
     "execution_count": 8,
     "metadata": {},
     "output_type": "execute_result"
    }
   ],
   "source": [
    "kickstarter_df['launched'].min()"
   ]
  },
  {
   "cell_type": "code",
   "execution_count": 9,
   "id": "6b646ece-0fa3-4c13-be4b-b7fdd2e58738",
   "metadata": {},
   "outputs": [
    {
     "data": {
      "text/plain": [
       "(331675, 15)"
      ]
     },
     "execution_count": 9,
     "metadata": {},
     "output_type": "execute_result"
    }
   ],
   "source": [
    "kickstarter_df.shape"
   ]
  },
  {
   "cell_type": "code",
   "execution_count": 10,
   "id": "295a8a05-6e1a-4b5a-9421-7e350b74ff99",
   "metadata": {},
   "outputs": [
    {
     "name": "stdout",
     "output_type": "stream",
     "text": [
      "197719\n"
     ]
    }
   ],
   "source": [
    "failed_count = kickstarter_df[kickstarter_df['state'] == 'failed'].shape[0]\n",
    "print(failed_count)"
   ]
  },
  {
   "cell_type": "code",
   "execution_count": 11,
   "id": "1b26e83f-bc35-40a8-8168-e3054b2bc9f5",
   "metadata": {},
   "outputs": [
    {
     "data": {
      "text/plain": [
       "133956"
      ]
     },
     "execution_count": 11,
     "metadata": {},
     "output_type": "execute_result"
    }
   ],
   "source": [
    "successful_count = kickstarter_df[kickstarter_df['state'] == 'successful'].shape[0]\n",
    "successful_count"
   ]
  },
  {
   "cell_type": "code",
   "execution_count": 12,
   "id": "51916aaa-4f5e-444a-8a14-92a9a64ed721",
   "metadata": {},
   "outputs": [
    {
     "data": {
      "text/plain": [
       "0.5961227104846611"
      ]
     },
     "execution_count": 12,
     "metadata": {},
     "output_type": "execute_result"
    }
   ],
   "source": [
    "failed_count/kickstarter_df.shape[0]"
   ]
  },
  {
   "cell_type": "code",
   "execution_count": 13,
   "id": "72abcfaf-5be7-4d65-b2e0-34f95d113c50",
   "metadata": {},
   "outputs": [
    {
     "data": {
      "text/plain": [
       "0.4038772895153388"
      ]
     },
     "execution_count": 13,
     "metadata": {},
     "output_type": "execute_result"
    }
   ],
   "source": [
    "successful_count/kickstarter_df.shape[0]"
   ]
  },
  {
   "cell_type": "code",
   "execution_count": null,
   "id": "930b9ee6-bfc3-40ba-8d53-9e6e714c1246",
   "metadata": {},
   "outputs": [],
   "source": []
  },
  {
   "cell_type": "code",
   "execution_count": null,
   "id": "5f55ae35-b6f1-493f-941c-14ac1ff76716",
   "metadata": {},
   "outputs": [],
   "source": []
  }
 ],
 "metadata": {
  "kernelspec": {
   "display_name": "Python 3 (ipykernel)",
   "language": "python",
   "name": "python3"
  },
  "language_info": {
   "codemirror_mode": {
    "name": "ipython",
    "version": 3
   },
   "file_extension": ".py",
   "mimetype": "text/x-python",
   "name": "python",
   "nbconvert_exporter": "python",
   "pygments_lexer": "ipython3",
   "version": "3.7.11"
  }
 },
 "nbformat": 4,
 "nbformat_minor": 5
}
