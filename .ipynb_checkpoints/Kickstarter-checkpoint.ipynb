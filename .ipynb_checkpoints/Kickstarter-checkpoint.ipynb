{
 "cells": [
  {
   "cell_type": "code",
   "execution_count": 1,
   "id": "9efab12c-9350-490c-a345-c1264bf832d8",
   "metadata": {},
   "outputs": [],
   "source": [
    "from sklearn import datasets\n",
    "from datetime import datetime\n",
    "\n",
    "import pandas as pd\n",
    "import matplotlib.pyplot as plt\n",
    "\n",
    "kickstarter_df = pd.read_csv(\"ks-projects-201801.csv\")\n",
    "\n",
    "kickstarter_df.sort_values(by=['launched'], inplace=True)\n",
    "\n",
    "kickstarter_df['deadline'] = kickstarter_df['deadline'].apply(\n",
    "    lambda d: datetime.strptime(d, '%Y-%m-%d'))\n",
    "kickstarter_df['launched'] = kickstarter_df['launched'].apply(\n",
    "    lambda d: datetime.strptime(d, '%Y-%m-%d %H:%M:%S'))"
   ]
  },
  {
   "cell_type": "code",
   "execution_count": null,
   "id": "0213a87a-c375-4c44-8e39-5e31c046ec5b",
   "metadata": {},
   "outputs": [],
   "source": []
  },
  {
   "cell_type": "code",
   "execution_count": 2,
   "id": "8f16541c-9f64-43c8-8645-6b69c82dc4db",
   "metadata": {},
   "outputs": [
    {
     "data": {
      "text/plain": [
       "array(['canceled', 'suspended', 'failed', 'successful', 'undefined',\n",
       "       'live'], dtype=object)"
      ]
     },
     "execution_count": 2,
     "metadata": {},
     "output_type": "execute_result"
    }
   ],
   "source": [
    "kickstarter_df['state'].unique()"
   ]
  },
  {
   "cell_type": "code",
   "execution_count": 3,
   "id": "b7222494-654d-4de3-8bff-2a72a5c22abc",
   "metadata": {},
   "outputs": [],
   "source": [
    "kickstarter_df = kickstarter_df[\n",
    "    (kickstarter_df['state'] != 'live') \n",
    "    & (kickstarter_df['state'] != 'undefined')\n",
    "    & (kickstarter_df['state'] != 'canceled')\n",
    "    & (kickstarter_df['state'] != 'suspended')]"
   ]
  },
  {
   "cell_type": "code",
   "execution_count": 4,
   "id": "78a23087-b1a4-4733-8895-6cb8fb488af8",
   "metadata": {},
   "outputs": [
    {
     "data": {
      "text/html": [
       "<div>\n",
       "<style scoped>\n",
       "    .dataframe tbody tr th:only-of-type {\n",
       "        vertical-align: middle;\n",
       "    }\n",
       "\n",
       "    .dataframe tbody tr th {\n",
       "        vertical-align: top;\n",
       "    }\n",
       "\n",
       "    .dataframe thead th {\n",
       "        text-align: right;\n",
       "    }\n",
       "</style>\n",
       "<table border=\"1\" class=\"dataframe\">\n",
       "  <thead>\n",
       "    <tr style=\"text-align: right;\">\n",
       "      <th></th>\n",
       "      <th>ID</th>\n",
       "      <th>name</th>\n",
       "      <th>category</th>\n",
       "      <th>main_category</th>\n",
       "      <th>currency</th>\n",
       "      <th>deadline</th>\n",
       "      <th>goal</th>\n",
       "      <th>launched</th>\n",
       "      <th>pledged</th>\n",
       "      <th>state</th>\n",
       "      <th>backers</th>\n",
       "      <th>country</th>\n",
       "      <th>usd pledged</th>\n",
       "      <th>usd_pledged_real</th>\n",
       "      <th>usd_goal_real</th>\n",
       "    </tr>\n",
       "  </thead>\n",
       "  <tbody>\n",
       "    <tr>\n",
       "      <th>169268</th>\n",
       "      <td>1860890148</td>\n",
       "      <td>Grace Jones Does Not Give A F$#% T-Shirt (limi...</td>\n",
       "      <td>Fashion</td>\n",
       "      <td>Fashion</td>\n",
       "      <td>USD</td>\n",
       "      <td>2009-05-31</td>\n",
       "      <td>1000.0</td>\n",
       "      <td>2009-04-21 21:02:48</td>\n",
       "      <td>625.0</td>\n",
       "      <td>failed</td>\n",
       "      <td>30</td>\n",
       "      <td>US</td>\n",
       "      <td>625.0</td>\n",
       "      <td>625.0</td>\n",
       "      <td>1000.0</td>\n",
       "    </tr>\n",
       "    <tr>\n",
       "      <th>322000</th>\n",
       "      <td>709707365</td>\n",
       "      <td>CRYSTAL ANTLERS UNTITLED MOVIE</td>\n",
       "      <td>Shorts</td>\n",
       "      <td>Film &amp; Video</td>\n",
       "      <td>USD</td>\n",
       "      <td>2009-07-20</td>\n",
       "      <td>80000.0</td>\n",
       "      <td>2009-04-23 00:07:53</td>\n",
       "      <td>22.0</td>\n",
       "      <td>failed</td>\n",
       "      <td>3</td>\n",
       "      <td>US</td>\n",
       "      <td>22.0</td>\n",
       "      <td>22.0</td>\n",
       "      <td>80000.0</td>\n",
       "    </tr>\n",
       "    <tr>\n",
       "      <th>138572</th>\n",
       "      <td>1703704063</td>\n",
       "      <td>drawing for dollars</td>\n",
       "      <td>Illustration</td>\n",
       "      <td>Art</td>\n",
       "      <td>USD</td>\n",
       "      <td>2009-05-03</td>\n",
       "      <td>20.0</td>\n",
       "      <td>2009-04-24 21:52:03</td>\n",
       "      <td>35.0</td>\n",
       "      <td>successful</td>\n",
       "      <td>3</td>\n",
       "      <td>US</td>\n",
       "      <td>35.0</td>\n",
       "      <td>35.0</td>\n",
       "      <td>20.0</td>\n",
       "    </tr>\n",
       "    <tr>\n",
       "      <th>325391</th>\n",
       "      <td>727286</td>\n",
       "      <td>Offline Wikipedia iPhone app</td>\n",
       "      <td>Software</td>\n",
       "      <td>Technology</td>\n",
       "      <td>USD</td>\n",
       "      <td>2009-07-14</td>\n",
       "      <td>99.0</td>\n",
       "      <td>2009-04-25 17:36:21</td>\n",
       "      <td>145.0</td>\n",
       "      <td>successful</td>\n",
       "      <td>25</td>\n",
       "      <td>US</td>\n",
       "      <td>145.0</td>\n",
       "      <td>145.0</td>\n",
       "      <td>99.0</td>\n",
       "    </tr>\n",
       "    <tr>\n",
       "      <th>122662</th>\n",
       "      <td>1622952265</td>\n",
       "      <td>Pantshirts</td>\n",
       "      <td>Fashion</td>\n",
       "      <td>Fashion</td>\n",
       "      <td>USD</td>\n",
       "      <td>2009-05-26</td>\n",
       "      <td>1900.0</td>\n",
       "      <td>2009-04-27 14:10:39</td>\n",
       "      <td>387.0</td>\n",
       "      <td>failed</td>\n",
       "      <td>10</td>\n",
       "      <td>US</td>\n",
       "      <td>387.0</td>\n",
       "      <td>387.0</td>\n",
       "      <td>1900.0</td>\n",
       "    </tr>\n",
       "  </tbody>\n",
       "</table>\n",
       "</div>"
      ],
      "text/plain": [
       "                ID                                               name  \\\n",
       "169268  1860890148  Grace Jones Does Not Give A F$#% T-Shirt (limi...   \n",
       "322000   709707365                     CRYSTAL ANTLERS UNTITLED MOVIE   \n",
       "138572  1703704063                                drawing for dollars   \n",
       "325391      727286                       Offline Wikipedia iPhone app   \n",
       "122662  1622952265                                         Pantshirts   \n",
       "\n",
       "            category main_category currency   deadline     goal  \\\n",
       "169268       Fashion       Fashion      USD 2009-05-31   1000.0   \n",
       "322000        Shorts  Film & Video      USD 2009-07-20  80000.0   \n",
       "138572  Illustration           Art      USD 2009-05-03     20.0   \n",
       "325391      Software    Technology      USD 2009-07-14     99.0   \n",
       "122662       Fashion       Fashion      USD 2009-05-26   1900.0   \n",
       "\n",
       "                  launched  pledged       state  backers country  usd pledged  \\\n",
       "169268 2009-04-21 21:02:48    625.0      failed       30      US        625.0   \n",
       "322000 2009-04-23 00:07:53     22.0      failed        3      US         22.0   \n",
       "138572 2009-04-24 21:52:03     35.0  successful        3      US         35.0   \n",
       "325391 2009-04-25 17:36:21    145.0  successful       25      US        145.0   \n",
       "122662 2009-04-27 14:10:39    387.0      failed       10      US        387.0   \n",
       "\n",
       "        usd_pledged_real  usd_goal_real  \n",
       "169268             625.0         1000.0  \n",
       "322000              22.0        80000.0  \n",
       "138572              35.0           20.0  \n",
       "325391             145.0           99.0  \n",
       "122662             387.0         1900.0  "
      ]
     },
     "execution_count": 4,
     "metadata": {},
     "output_type": "execute_result"
    }
   ],
   "source": [
    "kickstarter_df.head()"
   ]
  },
  {
   "cell_type": "code",
   "execution_count": null,
   "id": "b9073cdb-c5e3-4332-8743-7a005f88eae1",
   "metadata": {},
   "outputs": [],
   "source": []
  },
  {
   "cell_type": "code",
   "execution_count": 5,
   "id": "651525f1-389f-4fc9-a1a1-7301ce08e810",
   "metadata": {},
   "outputs": [
    {
     "data": {
      "text/html": [
       "<div>\n",
       "<style scoped>\n",
       "    .dataframe tbody tr th:only-of-type {\n",
       "        vertical-align: middle;\n",
       "    }\n",
       "\n",
       "    .dataframe tbody tr th {\n",
       "        vertical-align: top;\n",
       "    }\n",
       "\n",
       "    .dataframe thead th {\n",
       "        text-align: right;\n",
       "    }\n",
       "</style>\n",
       "<table border=\"1\" class=\"dataframe\">\n",
       "  <thead>\n",
       "    <tr style=\"text-align: right;\">\n",
       "      <th></th>\n",
       "      <th>state</th>\n",
       "    </tr>\n",
       "  </thead>\n",
       "  <tbody>\n",
       "    <tr>\n",
       "      <th>169268</th>\n",
       "      <td>failed</td>\n",
       "    </tr>\n",
       "    <tr>\n",
       "      <th>322000</th>\n",
       "      <td>failed</td>\n",
       "    </tr>\n",
       "    <tr>\n",
       "      <th>138572</th>\n",
       "      <td>successful</td>\n",
       "    </tr>\n",
       "    <tr>\n",
       "      <th>325391</th>\n",
       "      <td>successful</td>\n",
       "    </tr>\n",
       "    <tr>\n",
       "      <th>122662</th>\n",
       "      <td>failed</td>\n",
       "    </tr>\n",
       "  </tbody>\n",
       "</table>\n",
       "</div>"
      ],
      "text/plain": [
       "             state\n",
       "169268      failed\n",
       "322000      failed\n",
       "138572  successful\n",
       "325391  successful\n",
       "122662      failed"
      ]
     },
     "execution_count": 5,
     "metadata": {},
     "output_type": "execute_result"
    }
   ],
   "source": [
    "col_target = ['state', 'backers', 'pledged', 'usd pledged', 'usd_pledged_real']\n",
    "targets_df = kickstarter_df[col_target]\n",
    "label_df = targets_df[['state']]\n",
    "\n",
    "label_df.head()"
   ]
  },
  {
   "cell_type": "code",
   "execution_count": 6,
   "id": "51a84790-49d6-4dd1-bce5-60ae5177f0e8",
   "metadata": {},
   "outputs": [
    {
     "data": {
      "text/html": [
       "<div>\n",
       "<style scoped>\n",
       "    .dataframe tbody tr th:only-of-type {\n",
       "        vertical-align: middle;\n",
       "    }\n",
       "\n",
       "    .dataframe tbody tr th {\n",
       "        vertical-align: top;\n",
       "    }\n",
       "\n",
       "    .dataframe thead th {\n",
       "        text-align: right;\n",
       "    }\n",
       "</style>\n",
       "<table border=\"1\" class=\"dataframe\">\n",
       "  <thead>\n",
       "    <tr style=\"text-align: right;\">\n",
       "      <th></th>\n",
       "      <th>ID</th>\n",
       "      <th>name</th>\n",
       "      <th>category</th>\n",
       "      <th>main_category</th>\n",
       "      <th>currency</th>\n",
       "      <th>deadline</th>\n",
       "      <th>goal</th>\n",
       "      <th>launched</th>\n",
       "      <th>country</th>\n",
       "      <th>usd_goal_real</th>\n",
       "    </tr>\n",
       "  </thead>\n",
       "  <tbody>\n",
       "    <tr>\n",
       "      <th>169268</th>\n",
       "      <td>1860890148</td>\n",
       "      <td>Grace Jones Does Not Give A F$#% T-Shirt (limi...</td>\n",
       "      <td>Fashion</td>\n",
       "      <td>Fashion</td>\n",
       "      <td>USD</td>\n",
       "      <td>2009-05-31</td>\n",
       "      <td>1000.0</td>\n",
       "      <td>2009-04-21 21:02:48</td>\n",
       "      <td>US</td>\n",
       "      <td>1000.0</td>\n",
       "    </tr>\n",
       "    <tr>\n",
       "      <th>322000</th>\n",
       "      <td>709707365</td>\n",
       "      <td>CRYSTAL ANTLERS UNTITLED MOVIE</td>\n",
       "      <td>Shorts</td>\n",
       "      <td>Film &amp; Video</td>\n",
       "      <td>USD</td>\n",
       "      <td>2009-07-20</td>\n",
       "      <td>80000.0</td>\n",
       "      <td>2009-04-23 00:07:53</td>\n",
       "      <td>US</td>\n",
       "      <td>80000.0</td>\n",
       "    </tr>\n",
       "    <tr>\n",
       "      <th>138572</th>\n",
       "      <td>1703704063</td>\n",
       "      <td>drawing for dollars</td>\n",
       "      <td>Illustration</td>\n",
       "      <td>Art</td>\n",
       "      <td>USD</td>\n",
       "      <td>2009-05-03</td>\n",
       "      <td>20.0</td>\n",
       "      <td>2009-04-24 21:52:03</td>\n",
       "      <td>US</td>\n",
       "      <td>20.0</td>\n",
       "    </tr>\n",
       "    <tr>\n",
       "      <th>325391</th>\n",
       "      <td>727286</td>\n",
       "      <td>Offline Wikipedia iPhone app</td>\n",
       "      <td>Software</td>\n",
       "      <td>Technology</td>\n",
       "      <td>USD</td>\n",
       "      <td>2009-07-14</td>\n",
       "      <td>99.0</td>\n",
       "      <td>2009-04-25 17:36:21</td>\n",
       "      <td>US</td>\n",
       "      <td>99.0</td>\n",
       "    </tr>\n",
       "    <tr>\n",
       "      <th>122662</th>\n",
       "      <td>1622952265</td>\n",
       "      <td>Pantshirts</td>\n",
       "      <td>Fashion</td>\n",
       "      <td>Fashion</td>\n",
       "      <td>USD</td>\n",
       "      <td>2009-05-26</td>\n",
       "      <td>1900.0</td>\n",
       "      <td>2009-04-27 14:10:39</td>\n",
       "      <td>US</td>\n",
       "      <td>1900.0</td>\n",
       "    </tr>\n",
       "  </tbody>\n",
       "</table>\n",
       "</div>"
      ],
      "text/plain": [
       "                ID                                               name  \\\n",
       "169268  1860890148  Grace Jones Does Not Give A F$#% T-Shirt (limi...   \n",
       "322000   709707365                     CRYSTAL ANTLERS UNTITLED MOVIE   \n",
       "138572  1703704063                                drawing for dollars   \n",
       "325391      727286                       Offline Wikipedia iPhone app   \n",
       "122662  1622952265                                         Pantshirts   \n",
       "\n",
       "            category main_category currency   deadline     goal  \\\n",
       "169268       Fashion       Fashion      USD 2009-05-31   1000.0   \n",
       "322000        Shorts  Film & Video      USD 2009-07-20  80000.0   \n",
       "138572  Illustration           Art      USD 2009-05-03     20.0   \n",
       "325391      Software    Technology      USD 2009-07-14     99.0   \n",
       "122662       Fashion       Fashion      USD 2009-05-26   1900.0   \n",
       "\n",
       "                  launched country  usd_goal_real  \n",
       "169268 2009-04-21 21:02:48      US         1000.0  \n",
       "322000 2009-04-23 00:07:53      US        80000.0  \n",
       "138572 2009-04-24 21:52:03      US           20.0  \n",
       "325391 2009-04-25 17:36:21      US           99.0  \n",
       "122662 2009-04-27 14:10:39      US         1900.0  "
      ]
     },
     "execution_count": 6,
     "metadata": {},
     "output_type": "execute_result"
    }
   ],
   "source": [
    "col_features = kickstarter_df.columns.tolist()\n",
    "col_features = [c for c in col_features if c not in col_target]\n",
    "\n",
    "features_df = kickstarter_df[col_features]\n",
    "features_df.head()"
   ]
  },
  {
   "cell_type": "code",
   "execution_count": null,
   "id": "ab9b00c9-eb6b-4f3d-9c7d-5bc79cfaf3f4",
   "metadata": {},
   "outputs": [],
   "source": []
  },
  {
   "cell_type": "markdown",
   "id": "48c0d8dd-4582-4360-91ef-0b940897710a",
   "metadata": {},
   "source": [
    "## Separando dados de teste e treinamento"
   ]
  },
  {
   "cell_type": "code",
   "execution_count": 7,
   "id": "857420ed-2bb9-448c-a15a-3d44aecbf8c5",
   "metadata": {},
   "outputs": [],
   "source": [
    "from sklearn.model_selection import train_test_split\n",
    "\n",
    "X_train, X_test, y_train, y_test = train_test_split(\n",
    "    features_df, label_df, test_size=0.3, shuffle=False)"
   ]
  },
  {
   "cell_type": "code",
   "execution_count": 8,
   "id": "3b08e34c-5436-452b-a06a-26562f334459",
   "metadata": {},
   "outputs": [
    {
     "data": {
      "text/html": [
       "<div>\n",
       "<style scoped>\n",
       "    .dataframe tbody tr th:only-of-type {\n",
       "        vertical-align: middle;\n",
       "    }\n",
       "\n",
       "    .dataframe tbody tr th {\n",
       "        vertical-align: top;\n",
       "    }\n",
       "\n",
       "    .dataframe thead th {\n",
       "        text-align: right;\n",
       "    }\n",
       "</style>\n",
       "<table border=\"1\" class=\"dataframe\">\n",
       "  <thead>\n",
       "    <tr style=\"text-align: right;\">\n",
       "      <th></th>\n",
       "      <th>ID</th>\n",
       "      <th>name</th>\n",
       "      <th>category</th>\n",
       "      <th>main_category</th>\n",
       "      <th>currency</th>\n",
       "      <th>deadline</th>\n",
       "      <th>goal</th>\n",
       "      <th>launched</th>\n",
       "      <th>country</th>\n",
       "      <th>usd_goal_real</th>\n",
       "    </tr>\n",
       "  </thead>\n",
       "  <tbody>\n",
       "    <tr>\n",
       "      <th>169268</th>\n",
       "      <td>1860890148</td>\n",
       "      <td>Grace Jones Does Not Give A F$#% T-Shirt (limi...</td>\n",
       "      <td>Fashion</td>\n",
       "      <td>Fashion</td>\n",
       "      <td>USD</td>\n",
       "      <td>2009-05-31</td>\n",
       "      <td>1000.0</td>\n",
       "      <td>2009-04-21 21:02:48</td>\n",
       "      <td>US</td>\n",
       "      <td>1000.0</td>\n",
       "    </tr>\n",
       "    <tr>\n",
       "      <th>322000</th>\n",
       "      <td>709707365</td>\n",
       "      <td>CRYSTAL ANTLERS UNTITLED MOVIE</td>\n",
       "      <td>Shorts</td>\n",
       "      <td>Film &amp; Video</td>\n",
       "      <td>USD</td>\n",
       "      <td>2009-07-20</td>\n",
       "      <td>80000.0</td>\n",
       "      <td>2009-04-23 00:07:53</td>\n",
       "      <td>US</td>\n",
       "      <td>80000.0</td>\n",
       "    </tr>\n",
       "    <tr>\n",
       "      <th>138572</th>\n",
       "      <td>1703704063</td>\n",
       "      <td>drawing for dollars</td>\n",
       "      <td>Illustration</td>\n",
       "      <td>Art</td>\n",
       "      <td>USD</td>\n",
       "      <td>2009-05-03</td>\n",
       "      <td>20.0</td>\n",
       "      <td>2009-04-24 21:52:03</td>\n",
       "      <td>US</td>\n",
       "      <td>20.0</td>\n",
       "    </tr>\n",
       "    <tr>\n",
       "      <th>325391</th>\n",
       "      <td>727286</td>\n",
       "      <td>Offline Wikipedia iPhone app</td>\n",
       "      <td>Software</td>\n",
       "      <td>Technology</td>\n",
       "      <td>USD</td>\n",
       "      <td>2009-07-14</td>\n",
       "      <td>99.0</td>\n",
       "      <td>2009-04-25 17:36:21</td>\n",
       "      <td>US</td>\n",
       "      <td>99.0</td>\n",
       "    </tr>\n",
       "    <tr>\n",
       "      <th>122662</th>\n",
       "      <td>1622952265</td>\n",
       "      <td>Pantshirts</td>\n",
       "      <td>Fashion</td>\n",
       "      <td>Fashion</td>\n",
       "      <td>USD</td>\n",
       "      <td>2009-05-26</td>\n",
       "      <td>1900.0</td>\n",
       "      <td>2009-04-27 14:10:39</td>\n",
       "      <td>US</td>\n",
       "      <td>1900.0</td>\n",
       "    </tr>\n",
       "  </tbody>\n",
       "</table>\n",
       "</div>"
      ],
      "text/plain": [
       "                ID                                               name  \\\n",
       "169268  1860890148  Grace Jones Does Not Give A F$#% T-Shirt (limi...   \n",
       "322000   709707365                     CRYSTAL ANTLERS UNTITLED MOVIE   \n",
       "138572  1703704063                                drawing for dollars   \n",
       "325391      727286                       Offline Wikipedia iPhone app   \n",
       "122662  1622952265                                         Pantshirts   \n",
       "\n",
       "            category main_category currency   deadline     goal  \\\n",
       "169268       Fashion       Fashion      USD 2009-05-31   1000.0   \n",
       "322000        Shorts  Film & Video      USD 2009-07-20  80000.0   \n",
       "138572  Illustration           Art      USD 2009-05-03     20.0   \n",
       "325391      Software    Technology      USD 2009-07-14     99.0   \n",
       "122662       Fashion       Fashion      USD 2009-05-26   1900.0   \n",
       "\n",
       "                  launched country  usd_goal_real  \n",
       "169268 2009-04-21 21:02:48      US         1000.0  \n",
       "322000 2009-04-23 00:07:53      US        80000.0  \n",
       "138572 2009-04-24 21:52:03      US           20.0  \n",
       "325391 2009-04-25 17:36:21      US           99.0  \n",
       "122662 2009-04-27 14:10:39      US         1900.0  "
      ]
     },
     "execution_count": 8,
     "metadata": {},
     "output_type": "execute_result"
    }
   ],
   "source": [
    "X_train.head()"
   ]
  },
  {
   "cell_type": "code",
   "execution_count": 9,
   "id": "53945dcb-84cb-405a-a75b-19e1cc828154",
   "metadata": {},
   "outputs": [
    {
     "data": {
      "text/html": [
       "<div>\n",
       "<style scoped>\n",
       "    .dataframe tbody tr th:only-of-type {\n",
       "        vertical-align: middle;\n",
       "    }\n",
       "\n",
       "    .dataframe tbody tr th {\n",
       "        vertical-align: top;\n",
       "    }\n",
       "\n",
       "    .dataframe thead th {\n",
       "        text-align: right;\n",
       "    }\n",
       "</style>\n",
       "<table border=\"1\" class=\"dataframe\">\n",
       "  <thead>\n",
       "    <tr style=\"text-align: right;\">\n",
       "      <th></th>\n",
       "      <th>state</th>\n",
       "    </tr>\n",
       "  </thead>\n",
       "  <tbody>\n",
       "    <tr>\n",
       "      <th>169268</th>\n",
       "      <td>failed</td>\n",
       "    </tr>\n",
       "    <tr>\n",
       "      <th>322000</th>\n",
       "      <td>failed</td>\n",
       "    </tr>\n",
       "    <tr>\n",
       "      <th>138572</th>\n",
       "      <td>successful</td>\n",
       "    </tr>\n",
       "    <tr>\n",
       "      <th>325391</th>\n",
       "      <td>successful</td>\n",
       "    </tr>\n",
       "    <tr>\n",
       "      <th>122662</th>\n",
       "      <td>failed</td>\n",
       "    </tr>\n",
       "  </tbody>\n",
       "</table>\n",
       "</div>"
      ],
      "text/plain": [
       "             state\n",
       "169268      failed\n",
       "322000      failed\n",
       "138572  successful\n",
       "325391  successful\n",
       "122662      failed"
      ]
     },
     "execution_count": 9,
     "metadata": {},
     "output_type": "execute_result"
    }
   ],
   "source": [
    "y_train.head()"
   ]
  },
  {
   "cell_type": "markdown",
   "id": "5638bf57-cf11-476f-b935-94e64634c2c4",
   "metadata": {},
   "source": [
    "## Preprocessando os dados"
   ]
  },
  {
   "cell_type": "markdown",
   "id": "1146103f-1a5a-4c4e-a35a-8884bb2f8a54",
   "metadata": {},
   "source": [
    "### Manipulando datas"
   ]
  },
  {
   "cell_type": "code",
   "execution_count": 10,
   "id": "8a098a32-97b3-490c-bbbf-6d4c598f2716",
   "metadata": {},
   "outputs": [],
   "source": [
    "date_cols = ['deadline', 'launched']"
   ]
  },
  {
   "cell_type": "code",
   "execution_count": 11,
   "id": "d3aed0cc-5a3f-4b70-b180-f917609579e6",
   "metadata": {},
   "outputs": [],
   "source": [
    "X_train['project_duration'] = X_train['deadline'] - X_train['launched']\n",
    "X_train['project_duration'] = X_train['project_duration'].apply(lambda d: d.days)"
   ]
  },
  {
   "cell_type": "code",
   "execution_count": 12,
   "id": "a4347f4d-3002-4b49-b11f-b34f31f18d9b",
   "metadata": {},
   "outputs": [],
   "source": [
    "X_train['launched_month'] = X_train['launched'].apply(lambda d: d.month)\n",
    "X_train['launched_year'] = X_train['launched'].apply(lambda d: d.year)\n",
    "X_train['deadline_month'] = X_train['deadline'].apply(lambda d: d.month)\n",
    "X_train['deadline_year'] = X_train['deadline'].apply(lambda d: d.year)"
   ]
  },
  {
   "cell_type": "code",
   "execution_count": 13,
   "id": "40873e21-95d3-4260-bb3b-47e601d9a562",
   "metadata": {},
   "outputs": [],
   "source": [
    "X_train.drop(columns=date_cols, inplace=True)"
   ]
  },
  {
   "cell_type": "code",
   "execution_count": 14,
   "id": "199347eb-1327-4e95-8c22-135161ee1a13",
   "metadata": {},
   "outputs": [
    {
     "data": {
      "text/html": [
       "<div>\n",
       "<style scoped>\n",
       "    .dataframe tbody tr th:only-of-type {\n",
       "        vertical-align: middle;\n",
       "    }\n",
       "\n",
       "    .dataframe tbody tr th {\n",
       "        vertical-align: top;\n",
       "    }\n",
       "\n",
       "    .dataframe thead th {\n",
       "        text-align: right;\n",
       "    }\n",
       "</style>\n",
       "<table border=\"1\" class=\"dataframe\">\n",
       "  <thead>\n",
       "    <tr style=\"text-align: right;\">\n",
       "      <th></th>\n",
       "      <th>ID</th>\n",
       "      <th>name</th>\n",
       "      <th>category</th>\n",
       "      <th>main_category</th>\n",
       "      <th>currency</th>\n",
       "      <th>goal</th>\n",
       "      <th>country</th>\n",
       "      <th>usd_goal_real</th>\n",
       "      <th>project_duration</th>\n",
       "      <th>launched_month</th>\n",
       "      <th>launched_year</th>\n",
       "      <th>deadline_month</th>\n",
       "      <th>deadline_year</th>\n",
       "    </tr>\n",
       "  </thead>\n",
       "  <tbody>\n",
       "    <tr>\n",
       "      <th>169268</th>\n",
       "      <td>1860890148</td>\n",
       "      <td>Grace Jones Does Not Give A F$#% T-Shirt (limi...</td>\n",
       "      <td>Fashion</td>\n",
       "      <td>Fashion</td>\n",
       "      <td>USD</td>\n",
       "      <td>1000.0</td>\n",
       "      <td>US</td>\n",
       "      <td>1000.0</td>\n",
       "      <td>39</td>\n",
       "      <td>4</td>\n",
       "      <td>2009</td>\n",
       "      <td>5</td>\n",
       "      <td>2009</td>\n",
       "    </tr>\n",
       "    <tr>\n",
       "      <th>322000</th>\n",
       "      <td>709707365</td>\n",
       "      <td>CRYSTAL ANTLERS UNTITLED MOVIE</td>\n",
       "      <td>Shorts</td>\n",
       "      <td>Film &amp; Video</td>\n",
       "      <td>USD</td>\n",
       "      <td>80000.0</td>\n",
       "      <td>US</td>\n",
       "      <td>80000.0</td>\n",
       "      <td>87</td>\n",
       "      <td>4</td>\n",
       "      <td>2009</td>\n",
       "      <td>7</td>\n",
       "      <td>2009</td>\n",
       "    </tr>\n",
       "    <tr>\n",
       "      <th>138572</th>\n",
       "      <td>1703704063</td>\n",
       "      <td>drawing for dollars</td>\n",
       "      <td>Illustration</td>\n",
       "      <td>Art</td>\n",
       "      <td>USD</td>\n",
       "      <td>20.0</td>\n",
       "      <td>US</td>\n",
       "      <td>20.0</td>\n",
       "      <td>8</td>\n",
       "      <td>4</td>\n",
       "      <td>2009</td>\n",
       "      <td>5</td>\n",
       "      <td>2009</td>\n",
       "    </tr>\n",
       "    <tr>\n",
       "      <th>325391</th>\n",
       "      <td>727286</td>\n",
       "      <td>Offline Wikipedia iPhone app</td>\n",
       "      <td>Software</td>\n",
       "      <td>Technology</td>\n",
       "      <td>USD</td>\n",
       "      <td>99.0</td>\n",
       "      <td>US</td>\n",
       "      <td>99.0</td>\n",
       "      <td>79</td>\n",
       "      <td>4</td>\n",
       "      <td>2009</td>\n",
       "      <td>7</td>\n",
       "      <td>2009</td>\n",
       "    </tr>\n",
       "    <tr>\n",
       "      <th>122662</th>\n",
       "      <td>1622952265</td>\n",
       "      <td>Pantshirts</td>\n",
       "      <td>Fashion</td>\n",
       "      <td>Fashion</td>\n",
       "      <td>USD</td>\n",
       "      <td>1900.0</td>\n",
       "      <td>US</td>\n",
       "      <td>1900.0</td>\n",
       "      <td>28</td>\n",
       "      <td>4</td>\n",
       "      <td>2009</td>\n",
       "      <td>5</td>\n",
       "      <td>2009</td>\n",
       "    </tr>\n",
       "  </tbody>\n",
       "</table>\n",
       "</div>"
      ],
      "text/plain": [
       "                ID                                               name  \\\n",
       "169268  1860890148  Grace Jones Does Not Give A F$#% T-Shirt (limi...   \n",
       "322000   709707365                     CRYSTAL ANTLERS UNTITLED MOVIE   \n",
       "138572  1703704063                                drawing for dollars   \n",
       "325391      727286                       Offline Wikipedia iPhone app   \n",
       "122662  1622952265                                         Pantshirts   \n",
       "\n",
       "            category main_category currency     goal country  usd_goal_real  \\\n",
       "169268       Fashion       Fashion      USD   1000.0      US         1000.0   \n",
       "322000        Shorts  Film & Video      USD  80000.0      US        80000.0   \n",
       "138572  Illustration           Art      USD     20.0      US           20.0   \n",
       "325391      Software    Technology      USD     99.0      US           99.0   \n",
       "122662       Fashion       Fashion      USD   1900.0      US         1900.0   \n",
       "\n",
       "        project_duration  launched_month  launched_year  deadline_month  \\\n",
       "169268                39               4           2009               5   \n",
       "322000                87               4           2009               7   \n",
       "138572                 8               4           2009               5   \n",
       "325391                79               4           2009               7   \n",
       "122662                28               4           2009               5   \n",
       "\n",
       "        deadline_year  \n",
       "169268           2009  \n",
       "322000           2009  \n",
       "138572           2009  \n",
       "325391           2009  \n",
       "122662           2009  "
      ]
     },
     "execution_count": 14,
     "metadata": {},
     "output_type": "execute_result"
    }
   ],
   "source": [
    "X_train.head()"
   ]
  },
  {
   "cell_type": "markdown",
   "id": "3be109e0-2c91-490d-9f0d-838e7a23c340",
   "metadata": {},
   "source": [
    "### Manipulando dados categoricos"
   ]
  },
  {
   "cell_type": "code",
   "execution_count": 15,
   "id": "99ad4fc9-eaca-4f19-8178-7c33bb16f34b",
   "metadata": {
    "tags": []
   },
   "outputs": [
    {
     "data": {
      "text/plain": [
       "['name', 'category', 'main_category', 'currency', 'country']"
      ]
     },
     "execution_count": 15,
     "metadata": {},
     "output_type": "execute_result"
    }
   ],
   "source": [
    "obj_cols = X_train.select_dtypes(include=['object']).columns.tolist()\n",
    "obj_cols"
   ]
  },
  {
   "cell_type": "code",
   "execution_count": 16,
   "id": "035af7e1-c730-4fa3-88fd-0155972a8104",
   "metadata": {},
   "outputs": [],
   "source": [
    "from sklearn.preprocessing import OneHotEncoder\n",
    "\n",
    "enc = OneHotEncoder(handle_unknown='ignore', sparse=False)"
   ]
  },
  {
   "cell_type": "code",
   "execution_count": 17,
   "id": "64f76842-119b-40dc-bd86-27bda35c7840",
   "metadata": {},
   "outputs": [
    {
     "data": {
      "text/plain": [
       "OneHotEncoder(handle_unknown='ignore', sparse=False)"
      ]
     },
     "execution_count": 17,
     "metadata": {},
     "output_type": "execute_result"
    }
   ],
   "source": [
    "enc.fit(X_train[obj_cols[1:]])"
   ]
  },
  {
   "cell_type": "code",
   "execution_count": 18,
   "id": "f641c742-0304-47e7-a52d-f77996d7e9d8",
   "metadata": {},
   "outputs": [],
   "source": [
    "X_ = enc.transform(X_train[obj_cols[1:]])"
   ]
  },
  {
   "cell_type": "code",
   "execution_count": 19,
   "id": "ec164ca0-531e-4dc9-bec5-7ff9c5216732",
   "metadata": {},
   "outputs": [],
   "source": [
    "X_df = pd.DataFrame(X_, columns=enc.get_feature_names_out())\n",
    "X_df.index = X_train.index"
   ]
  },
  {
   "cell_type": "code",
   "execution_count": 20,
   "id": "7864945e-e43e-4055-83b3-61b3cc1a384c",
   "metadata": {},
   "outputs": [],
   "source": [
    "X_train = pd.concat([X_train, X_df], axis=1)"
   ]
  },
  {
   "cell_type": "code",
   "execution_count": 21,
   "id": "e0bd474c-3b49-4a37-b17f-6f60919c41c8",
   "metadata": {},
   "outputs": [],
   "source": [
    "X_train.drop(columns=obj_cols, inplace=True)"
   ]
  },
  {
   "cell_type": "code",
   "execution_count": 22,
   "id": "9733bf49-1b6b-4e7f-9e8c-49800494204c",
   "metadata": {},
   "outputs": [
    {
     "data": {
      "text/html": [
       "<div>\n",
       "<style scoped>\n",
       "    .dataframe tbody tr th:only-of-type {\n",
       "        vertical-align: middle;\n",
       "    }\n",
       "\n",
       "    .dataframe tbody tr th {\n",
       "        vertical-align: top;\n",
       "    }\n",
       "\n",
       "    .dataframe thead th {\n",
       "        text-align: right;\n",
       "    }\n",
       "</style>\n",
       "<table border=\"1\" class=\"dataframe\">\n",
       "  <thead>\n",
       "    <tr style=\"text-align: right;\">\n",
       "      <th></th>\n",
       "      <th>ID</th>\n",
       "      <th>goal</th>\n",
       "      <th>usd_goal_real</th>\n",
       "      <th>project_duration</th>\n",
       "      <th>launched_month</th>\n",
       "      <th>launched_year</th>\n",
       "      <th>deadline_month</th>\n",
       "      <th>deadline_year</th>\n",
       "      <th>category_3D Printing</th>\n",
       "      <th>category_Academic</th>\n",
       "      <th>...</th>\n",
       "      <th>country_GB</th>\n",
       "      <th>country_IE</th>\n",
       "      <th>country_IT</th>\n",
       "      <th>country_LU</th>\n",
       "      <th>country_N,0\"</th>\n",
       "      <th>country_NL</th>\n",
       "      <th>country_NO</th>\n",
       "      <th>country_NZ</th>\n",
       "      <th>country_SE</th>\n",
       "      <th>country_US</th>\n",
       "    </tr>\n",
       "  </thead>\n",
       "  <tbody>\n",
       "    <tr>\n",
       "      <th>169268</th>\n",
       "      <td>1860890148</td>\n",
       "      <td>1000.0</td>\n",
       "      <td>1000.0</td>\n",
       "      <td>39</td>\n",
       "      <td>4</td>\n",
       "      <td>2009</td>\n",
       "      <td>5</td>\n",
       "      <td>2009</td>\n",
       "      <td>0.0</td>\n",
       "      <td>0.0</td>\n",
       "      <td>...</td>\n",
       "      <td>0.0</td>\n",
       "      <td>0.0</td>\n",
       "      <td>0.0</td>\n",
       "      <td>0.0</td>\n",
       "      <td>0.0</td>\n",
       "      <td>0.0</td>\n",
       "      <td>0.0</td>\n",
       "      <td>0.0</td>\n",
       "      <td>0.0</td>\n",
       "      <td>1.0</td>\n",
       "    </tr>\n",
       "    <tr>\n",
       "      <th>322000</th>\n",
       "      <td>709707365</td>\n",
       "      <td>80000.0</td>\n",
       "      <td>80000.0</td>\n",
       "      <td>87</td>\n",
       "      <td>4</td>\n",
       "      <td>2009</td>\n",
       "      <td>7</td>\n",
       "      <td>2009</td>\n",
       "      <td>0.0</td>\n",
       "      <td>0.0</td>\n",
       "      <td>...</td>\n",
       "      <td>0.0</td>\n",
       "      <td>0.0</td>\n",
       "      <td>0.0</td>\n",
       "      <td>0.0</td>\n",
       "      <td>0.0</td>\n",
       "      <td>0.0</td>\n",
       "      <td>0.0</td>\n",
       "      <td>0.0</td>\n",
       "      <td>0.0</td>\n",
       "      <td>1.0</td>\n",
       "    </tr>\n",
       "    <tr>\n",
       "      <th>138572</th>\n",
       "      <td>1703704063</td>\n",
       "      <td>20.0</td>\n",
       "      <td>20.0</td>\n",
       "      <td>8</td>\n",
       "      <td>4</td>\n",
       "      <td>2009</td>\n",
       "      <td>5</td>\n",
       "      <td>2009</td>\n",
       "      <td>0.0</td>\n",
       "      <td>0.0</td>\n",
       "      <td>...</td>\n",
       "      <td>0.0</td>\n",
       "      <td>0.0</td>\n",
       "      <td>0.0</td>\n",
       "      <td>0.0</td>\n",
       "      <td>0.0</td>\n",
       "      <td>0.0</td>\n",
       "      <td>0.0</td>\n",
       "      <td>0.0</td>\n",
       "      <td>0.0</td>\n",
       "      <td>1.0</td>\n",
       "    </tr>\n",
       "    <tr>\n",
       "      <th>325391</th>\n",
       "      <td>727286</td>\n",
       "      <td>99.0</td>\n",
       "      <td>99.0</td>\n",
       "      <td>79</td>\n",
       "      <td>4</td>\n",
       "      <td>2009</td>\n",
       "      <td>7</td>\n",
       "      <td>2009</td>\n",
       "      <td>0.0</td>\n",
       "      <td>0.0</td>\n",
       "      <td>...</td>\n",
       "      <td>0.0</td>\n",
       "      <td>0.0</td>\n",
       "      <td>0.0</td>\n",
       "      <td>0.0</td>\n",
       "      <td>0.0</td>\n",
       "      <td>0.0</td>\n",
       "      <td>0.0</td>\n",
       "      <td>0.0</td>\n",
       "      <td>0.0</td>\n",
       "      <td>1.0</td>\n",
       "    </tr>\n",
       "    <tr>\n",
       "      <th>122662</th>\n",
       "      <td>1622952265</td>\n",
       "      <td>1900.0</td>\n",
       "      <td>1900.0</td>\n",
       "      <td>28</td>\n",
       "      <td>4</td>\n",
       "      <td>2009</td>\n",
       "      <td>5</td>\n",
       "      <td>2009</td>\n",
       "      <td>0.0</td>\n",
       "      <td>0.0</td>\n",
       "      <td>...</td>\n",
       "      <td>0.0</td>\n",
       "      <td>0.0</td>\n",
       "      <td>0.0</td>\n",
       "      <td>0.0</td>\n",
       "      <td>0.0</td>\n",
       "      <td>0.0</td>\n",
       "      <td>0.0</td>\n",
       "      <td>0.0</td>\n",
       "      <td>0.0</td>\n",
       "      <td>1.0</td>\n",
       "    </tr>\n",
       "  </tbody>\n",
       "</table>\n",
       "<p>5 rows × 210 columns</p>\n",
       "</div>"
      ],
      "text/plain": [
       "                ID     goal  usd_goal_real  project_duration  launched_month  \\\n",
       "169268  1860890148   1000.0         1000.0                39               4   \n",
       "322000   709707365  80000.0        80000.0                87               4   \n",
       "138572  1703704063     20.0           20.0                 8               4   \n",
       "325391      727286     99.0           99.0                79               4   \n",
       "122662  1622952265   1900.0         1900.0                28               4   \n",
       "\n",
       "        launched_year  deadline_month  deadline_year  category_3D Printing  \\\n",
       "169268           2009               5           2009                   0.0   \n",
       "322000           2009               7           2009                   0.0   \n",
       "138572           2009               5           2009                   0.0   \n",
       "325391           2009               7           2009                   0.0   \n",
       "122662           2009               5           2009                   0.0   \n",
       "\n",
       "        category_Academic  ...  country_GB  country_IE  country_IT  \\\n",
       "169268                0.0  ...         0.0         0.0         0.0   \n",
       "322000                0.0  ...         0.0         0.0         0.0   \n",
       "138572                0.0  ...         0.0         0.0         0.0   \n",
       "325391                0.0  ...         0.0         0.0         0.0   \n",
       "122662                0.0  ...         0.0         0.0         0.0   \n",
       "\n",
       "        country_LU  country_N,0\"  country_NL  country_NO  country_NZ  \\\n",
       "169268         0.0           0.0         0.0         0.0         0.0   \n",
       "322000         0.0           0.0         0.0         0.0         0.0   \n",
       "138572         0.0           0.0         0.0         0.0         0.0   \n",
       "325391         0.0           0.0         0.0         0.0         0.0   \n",
       "122662         0.0           0.0         0.0         0.0         0.0   \n",
       "\n",
       "        country_SE  country_US  \n",
       "169268         0.0         1.0  \n",
       "322000         0.0         1.0  \n",
       "138572         0.0         1.0  \n",
       "325391         0.0         1.0  \n",
       "122662         0.0         1.0  \n",
       "\n",
       "[5 rows x 210 columns]"
      ]
     },
     "execution_count": 22,
     "metadata": {},
     "output_type": "execute_result"
    }
   ],
   "source": [
    "X_train.head()"
   ]
  },
  {
   "cell_type": "markdown",
   "id": "9a2dcc80-09c8-4f48-9686-a1abd8aea383",
   "metadata": {},
   "source": [
    "### Manipulando dados numéricos"
   ]
  },
  {
   "cell_type": "markdown",
   "id": "56cb9df9-e594-47a1-aa2e-344642ce0d07",
   "metadata": {},
   "source": [
    "#### Padronização de valores para evitar que o modelo fique sujeito a dar importância maior a números maiores"
   ]
  },
  {
   "cell_type": "code",
   "execution_count": 23,
   "id": "fb618568-1c50-459a-8c14-38978b4712e9",
   "metadata": {},
   "outputs": [
    {
     "data": {
      "text/plain": [
       "(232172, 0)"
      ]
     },
     "execution_count": 23,
     "metadata": {},
     "output_type": "execute_result"
    }
   ],
   "source": [
    "X_train.select_dtypes(exclude=['float', 'int']).shape"
   ]
  },
  {
   "cell_type": "code",
   "execution_count": 24,
   "id": "384820cf-a7c6-4b31-ad28-c3e78b319527",
   "metadata": {},
   "outputs": [],
   "source": [
    "from sklearn.preprocessing import StandardScaler\n",
    "\n",
    "ss = StandardScaler()"
   ]
  },
  {
   "cell_type": "code",
   "execution_count": 25,
   "id": "9eee0a67-7dd9-4362-8d89-e73eced39bbe",
   "metadata": {},
   "outputs": [
    {
     "data": {
      "text/plain": [
       "StandardScaler()"
      ]
     },
     "execution_count": 25,
     "metadata": {},
     "output_type": "execute_result"
    }
   ],
   "source": [
    "ss.fit(X_train)"
   ]
  },
  {
   "cell_type": "code",
   "execution_count": 26,
   "id": "bd926184-d758-4e9d-8333-f19576bd053b",
   "metadata": {},
   "outputs": [],
   "source": [
    "X_ = ss.transform(X_train)"
   ]
  },
  {
   "cell_type": "markdown",
   "id": "3230d734-c84d-42b3-9672-7439e21401c5",
   "metadata": {},
   "source": [
    "### Processando o label"
   ]
  },
  {
   "cell_type": "code",
   "execution_count": 27,
   "id": "4624a33a-450e-427e-87ec-bf5f23b484ad",
   "metadata": {},
   "outputs": [],
   "source": [
    "y_train[y_train['state'] == 'failed'] = 0\n",
    "y_train[y_train['state'] == 'successful'] = 1"
   ]
  },
  {
   "cell_type": "code",
   "execution_count": 28,
   "id": "97f43bb8-e9a4-41e2-9d4b-fc2a8233a5a5",
   "metadata": {
    "tags": []
   },
   "outputs": [],
   "source": [
    "y_train = y_train['state'].tolist()"
   ]
  },
  {
   "cell_type": "markdown",
   "id": "3cdcfba0-428e-4151-9c42-149a581f5716",
   "metadata": {},
   "source": [
    "### Balanceamento do dataset"
   ]
  },
  {
   "cell_type": "markdown",
   "id": "28182a83-e956-4915-9e64-c216ffdecee3",
   "metadata": {},
   "source": [
    "#### Necessidade de balancear pois haviam mais projetos que falharam"
   ]
  },
  {
   "cell_type": "code",
   "execution_count": 29,
   "id": "c946c672-2811-4b0f-b3ce-15c7f6c20721",
   "metadata": {},
   "outputs": [
    {
     "data": {
      "text/plain": [
       "0.4074048550212773"
      ]
     },
     "execution_count": 29,
     "metadata": {},
     "output_type": "execute_result"
    }
   ],
   "source": [
    "sum(y_train) / len(y_train)"
   ]
  },
  {
   "cell_type": "code",
   "execution_count": 30,
   "id": "ee52e049-18fa-431e-8415-b3d9bc30401a",
   "metadata": {},
   "outputs": [],
   "source": [
    "from imblearn.over_sampling import SMOTE\n",
    "\n",
    "sm = SMOTE()"
   ]
  },
  {
   "cell_type": "code",
   "execution_count": 31,
   "id": "e39137f8-7184-4698-b5f3-2d90bcdadaaa",
   "metadata": {},
   "outputs": [],
   "source": [
    "X_, y_train = sm.fit_resample(X_, y_train)"
   ]
  },
  {
   "cell_type": "code",
   "execution_count": 32,
   "id": "e21f28a4-ec0a-444b-8901-335d0cc85cfa",
   "metadata": {},
   "outputs": [
    {
     "data": {
      "text/plain": [
       "0.5"
      ]
     },
     "execution_count": 32,
     "metadata": {},
     "output_type": "execute_result"
    }
   ],
   "source": [
    "sum(y_train) / len(y_train)"
   ]
  },
  {
   "cell_type": "markdown",
   "id": "19e24c29-7170-42b5-b46e-ef3f0f808687",
   "metadata": {},
   "source": [
    "## Treinamento do modelo"
   ]
  },
  {
   "cell_type": "code",
   "execution_count": 33,
   "id": "b2d45efd-927f-4d43-b3ae-fb8467395233",
   "metadata": {
    "tags": []
   },
   "outputs": [
    {
     "data": {
      "text/plain": [
       "KNeighborsClassifier(n_jobs=-1)"
      ]
     },
     "execution_count": 33,
     "metadata": {},
     "output_type": "execute_result"
    }
   ],
   "source": [
    "from sklearn.neighbors import KNeighborsClassifier\n",
    "\n",
    "# Create KNN Classifier\n",
    "knn = KNeighborsClassifier(n_neighbors=5, n_jobs=-1)\n",
    "\n",
    "# Train the model using the training sets\n",
    "knn.fit(X_, y_train)"
   ]
  },
  {
   "cell_type": "code",
   "execution_count": 34,
   "id": "238039da-0946-48bc-a5fb-8872ef89eb57",
   "metadata": {
    "tags": []
   },
   "outputs": [
    {
     "data": {
      "text/plain": [
       "RandomForestClassifier(max_depth=15, n_estimators=30)"
      ]
     },
     "execution_count": 34,
     "metadata": {},
     "output_type": "execute_result"
    }
   ],
   "source": [
    "from sklearn.ensemble import RandomForestClassifier\n",
    "\n",
    "rf = RandomForestClassifier(\n",
    "    n_estimators=30,\n",
    "    max_depth=15)\n",
    "rf.fit(X_, y_train)"
   ]
  },
  {
   "cell_type": "code",
   "execution_count": null,
   "id": "8560d2a7-3ad9-40db-8bfe-eb030cd04ccf",
   "metadata": {},
   "outputs": [],
   "source": []
  },
  {
   "cell_type": "markdown",
   "id": "437d5af3-8949-49c4-9d7c-300da45bf118",
   "metadata": {},
   "source": [
    "## Testando o modelo"
   ]
  },
  {
   "cell_type": "markdown",
   "id": "d4e12254-ae00-4b05-9eb9-0a55305a2657",
   "metadata": {},
   "source": [
    "### Processando os dados de teste"
   ]
  },
  {
   "cell_type": "code",
   "execution_count": 35,
   "id": "ca739ee3-678f-4926-a859-ca8eeeb281e2",
   "metadata": {
    "tags": []
   },
   "outputs": [],
   "source": [
    "X_test['project_duration'] = X_test['deadline'] - X_test['launched']\n",
    "X_test['project_duration'] = X_test['project_duration'].apply(lambda d: d.days)\n",
    "X_test['launched_month'] = X_test['launched'].apply(lambda d: d.month)\n",
    "X_test['launched_year'] = X_test['launched'].apply(lambda d: d.year)\n",
    "X_test['deadline_month'] = X_test['deadline'].apply(lambda d: d.month)\n",
    "X_test['deadline_year'] = X_test['deadline'].apply(lambda d: d.year)\n",
    "X_test.drop(columns=date_cols, inplace=True)"
   ]
  },
  {
   "cell_type": "code",
   "execution_count": 36,
   "id": "f34ed418-abb3-46d5-8e18-173f89a28599",
   "metadata": {},
   "outputs": [],
   "source": [
    "X_values = enc.transform(X_test[obj_cols[1:]])\n",
    "X_df = pd.DataFrame(X_values, columns=enc.get_feature_names_out())\n",
    "X_df.index = X_test.index\n",
    "X_test = pd.concat([X_test, X_df], axis=1)\n",
    "X_test.drop(columns=obj_cols, inplace=True)"
   ]
  },
  {
   "cell_type": "code",
   "execution_count": 37,
   "id": "da3fdae7-b9a7-4aac-ad57-e90e993b0a83",
   "metadata": {},
   "outputs": [],
   "source": [
    "X_test_ = ss.transform(X_test)"
   ]
  },
  {
   "cell_type": "code",
   "execution_count": 38,
   "id": "66c3a9ca-b573-41c0-a5cd-7b6c12261d88",
   "metadata": {},
   "outputs": [],
   "source": [
    "y_test[y_test['state'] == 'failed'] = 0\n",
    "y_test[y_test['state'] == 'successful'] = 1\n",
    "y_test = y_test['state'].tolist()"
   ]
  },
  {
   "cell_type": "markdown",
   "id": "a370e2b5-af83-49ca-9d6a-afe58e024374",
   "metadata": {},
   "source": [
    "### Visualizar resultados"
   ]
  },
  {
   "cell_type": "code",
   "execution_count": 41,
   "id": "40e4781d-df0f-419b-a0e0-6be1c1bf18a1",
   "metadata": {},
   "outputs": [
    {
     "data": {
      "text/plain": [
       "array([[0.68020067, 0.31979933],\n",
       "       [0.34568503, 0.65431497]])"
      ]
     },
     "execution_count": 41,
     "metadata": {},
     "output_type": "execute_result"
    }
   ],
   "source": [
    "from sklearn.metrics import ConfusionMatrixDisplay\n",
    "from sklearn.metrics import confusion_matrix\n",
    "confusion_matrix(\n",
    "    rf.predict(X_test_), \n",
    "    y_test, normalize='true')"
   ]
  },
  {
   "cell_type": "code",
   "execution_count": 42,
   "id": "f5e4b68e-f574-45a3-b19f-e84f53fa85ef",
   "metadata": {},
   "outputs": [
    {
     "data": {
      "text/plain": [
       "<sklearn.metrics._plot.confusion_matrix.ConfusionMatrixDisplay at 0x20907104dc8>"
      ]
     },
     "execution_count": 42,
     "metadata": {},
     "output_type": "execute_result"
    },
    {
     "data": {
      "image/png": "[encoded data removed]",
      "text/plain": [
       "<Figure size 432x288 with 2 Axes>"
      ]
     },
     "metadata": {
      "needs_background": "light"
     },
     "output_type": "display_data"
    }
   ],
   "source": [
    "ConfusionMatrixDisplay.from_predictions(rf.predict(X_test_), y_test, normalize='true')"
   ]
  },
  {
   "cell_type": "code",
   "execution_count": 43,
   "id": "70f8222f-cc32-48f4-b791-a276d9251d33",
   "metadata": {},
   "outputs": [],
   "source": [
    "y_pred = rf.predict(X_test_)"
   ]
  },
  {
   "cell_type": "code",
   "execution_count": 44,
   "id": "cf375f71-4d57-4c4d-b607-a7d218e88efc",
   "metadata": {},
   "outputs": [
    {
     "name": "stdout",
     "output_type": "stream",
     "text": [
      "Accuracy RF: 0.67433142719315\n"
     ]
    }
   ],
   "source": [
    "from sklearn import metrics\n",
    "\n",
    "print(\"Accuracy RF:\",metrics.accuracy_score(y_test, y_pred))"
   ]
  },
  {
   "cell_type": "code",
   "execution_count": 45,
   "id": "7420c790-ab00-408f-969c-63fcae7904c9",
   "metadata": {},
   "outputs": [],
   "source": [
    "y_pred_knn = knn.predict(X_test_)"
   ]
  },
  {
   "cell_type": "code",
   "execution_count": 116,
   "id": "194659bb-2540-4c32-9c7b-4a77bc22bfcd",
   "metadata": {},
   "outputs": [
    {
     "data": {
      "text/plain": [
       "<sklearn.metrics._plot.confusion_matrix.ConfusionMatrixDisplay at 0x20928011748>"
      ]
     },
     "execution_count": 116,
     "metadata": {},
     "output_type": "execute_result"
    },
    {
     "data": {
      "image/png": "[encoded data removed]",
      "text/plain": [
       "<Figure size 432x288 with 2 Axes>"
      ]
     },
     "metadata": {
      "needs_background": "light"
     },
     "output_type": "display_data"
    }
   ],
   "source": [
    "from sklearn.metrics import ConfusionMatrixDisplay\n",
    "\n",
    "ConfusionMatrixDisplay.from_predictions(y_pred_knn, y_test, normalize='true')"
   ]
  },
  {
   "cell_type": "code",
   "execution_count": 47,
   "id": "65f77dea-5f40-4171-b260-6b38f3eb9aa2",
   "metadata": {},
   "outputs": [
    {
     "name": "stdout",
     "output_type": "stream",
     "text": [
      "Accuracy KNN: 0.6231168909480116\n"
     ]
    }
   ],
   "source": [
    "\n",
    "print(\"Accuracy KNN:\",metrics.accuracy_score(y_test, y_pred_knn))"
   ]
  },
  {
   "cell_type": "markdown",
   "id": "d9d049d6-e263-480f-882a-f2233e7f27f1",
   "metadata": {},
   "source": [
    "## Otimizando parametros"
   ]
  },
  {
   "cell_type": "code",
   "execution_count": 48,
   "id": "afa42696-460a-4024-b8a7-49db988f6dde",
   "metadata": {},
   "outputs": [
    {
     "name": "stderr",
     "output_type": "stream",
     "text": [
      "100%|██████████████████████████████████████████████████████████████████████████████████| 11/11 [03:24<00:00, 18.59s/it]\n"
     ]
    }
   ],
   "source": [
    "from tqdm import tqdm \n",
    "\n",
    "\n",
    "max_depth = [5, 10, 15, 20, 30, 50, 70, 80, 90, 100, 150]\n",
    "\n",
    "cm_list = []\n",
    "cm_1, cm_2 = [], []\n",
    "for m in tqdm(max_depth):\n",
    "    rf_ = RandomForestClassifier(\n",
    "        n_estimators=30,\n",
    "        max_depth=m)\n",
    "    rf_.fit(X_, y_train)\n",
    "    \n",
    "    cm = confusion_matrix(\n",
    "        rf_.predict(X_test_), \n",
    "        y_test, normalize='true')\n",
    "    \n",
    "    cm_list.append(cm)\n",
    "    cm_1.append(cm[0,0])\n",
    "    cm_2.append(cm[1,1])"
   ]
  },
  {
   "cell_type": "code",
   "execution_count": 49,
   "id": "305d0f4a-b154-4e14-bb6c-196d36dee4a0",
   "metadata": {},
   "outputs": [
    {
     "data": {
      "image/png": "[encoded data removed]",
      "text/plain": [
       "<Figure size 432x288 with 1 Axes>"
      ]
     },
     "metadata": {
      "needs_background": "light"
     },
     "output_type": "display_data"
    }
   ],
   "source": [
    "import matplotlib.pyplot as plt\n",
    "\n",
    "plt.plot(max_depth, cm_1, label='True negative')\n",
    "plt.plot(max_depth, cm_2, label='True positive')\n",
    "plt.legend(['True negative', 'True positive'])\n",
    "plt.show()"
   ]
  },
  {
   "cell_type": "code",
   "execution_count": null,
   "id": "390c2ea7-e26b-4be7-bcc3-d380f4bb5983",
   "metadata": {},
   "outputs": [],
   "source": []
  },
  {
   "cell_type": "markdown",
   "id": "af0d4f09-e9ce-4df2-872e-b3a49ce9e2c0",
   "metadata": {},
   "source": [
    "## Testando valores"
   ]
  },
  {
   "cell_type": "code",
   "execution_count": 60,
   "id": "c79426bb-5969-4bcd-a3ab-1769febace30",
   "metadata": {},
   "outputs": [
    {
     "data": {
      "text/html": [
       "<div>\n",
       "<style scoped>\n",
       "    .dataframe tbody tr th:only-of-type {\n",
       "        vertical-align: middle;\n",
       "    }\n",
       "\n",
       "    .dataframe tbody tr th {\n",
       "        vertical-align: top;\n",
       "    }\n",
       "\n",
       "    .dataframe thead th {\n",
       "        text-align: right;\n",
       "    }\n",
       "</style>\n",
       "<table border=\"1\" class=\"dataframe\">\n",
       "  <thead>\n",
       "    <tr style=\"text-align: right;\">\n",
       "      <th></th>\n",
       "      <th>ID</th>\n",
       "      <th>name</th>\n",
       "      <th>category</th>\n",
       "      <th>main_category</th>\n",
       "      <th>currency</th>\n",
       "      <th>deadline</th>\n",
       "      <th>goal</th>\n",
       "      <th>launched</th>\n",
       "      <th>country</th>\n",
       "      <th>usd_goal_real</th>\n",
       "    </tr>\n",
       "  </thead>\n",
       "  <tbody>\n",
       "    <tr>\n",
       "      <th>169268</th>\n",
       "      <td>1860890148</td>\n",
       "      <td>Grace Jones Does Not Give A F$#% T-Shirt (limi...</td>\n",
       "      <td>Fashion</td>\n",
       "      <td>Fashion</td>\n",
       "      <td>USD</td>\n",
       "      <td>2009-05-31</td>\n",
       "      <td>1000.0</td>\n",
       "      <td>2009-04-21 21:02:48</td>\n",
       "      <td>US</td>\n",
       "      <td>1000.0</td>\n",
       "    </tr>\n",
       "    <tr>\n",
       "      <th>322000</th>\n",
       "      <td>709707365</td>\n",
       "      <td>CRYSTAL ANTLERS UNTITLED MOVIE</td>\n",
       "      <td>Shorts</td>\n",
       "      <td>Film &amp; Video</td>\n",
       "      <td>USD</td>\n",
       "      <td>2009-07-20</td>\n",
       "      <td>80000.0</td>\n",
       "      <td>2009-04-23 00:07:53</td>\n",
       "      <td>US</td>\n",
       "      <td>80000.0</td>\n",
       "    </tr>\n",
       "    <tr>\n",
       "      <th>138572</th>\n",
       "      <td>1703704063</td>\n",
       "      <td>drawing for dollars</td>\n",
       "      <td>Illustration</td>\n",
       "      <td>Art</td>\n",
       "      <td>USD</td>\n",
       "      <td>2009-05-03</td>\n",
       "      <td>20.0</td>\n",
       "      <td>2009-04-24 21:52:03</td>\n",
       "      <td>US</td>\n",
       "      <td>20.0</td>\n",
       "    </tr>\n",
       "    <tr>\n",
       "      <th>325391</th>\n",
       "      <td>727286</td>\n",
       "      <td>Offline Wikipedia iPhone app</td>\n",
       "      <td>Software</td>\n",
       "      <td>Technology</td>\n",
       "      <td>USD</td>\n",
       "      <td>2009-07-14</td>\n",
       "      <td>99.0</td>\n",
       "      <td>2009-04-25 17:36:21</td>\n",
       "      <td>US</td>\n",
       "      <td>99.0</td>\n",
       "    </tr>\n",
       "    <tr>\n",
       "      <th>122662</th>\n",
       "      <td>1622952265</td>\n",
       "      <td>Pantshirts</td>\n",
       "      <td>Fashion</td>\n",
       "      <td>Fashion</td>\n",
       "      <td>USD</td>\n",
       "      <td>2009-05-26</td>\n",
       "      <td>1900.0</td>\n",
       "      <td>2009-04-27 14:10:39</td>\n",
       "      <td>US</td>\n",
       "      <td>1900.0</td>\n",
       "    </tr>\n",
       "  </tbody>\n",
       "</table>\n",
       "</div>"
      ],
      "text/plain": [
       "                ID                                               name  \\\n",
       "169268  1860890148  Grace Jones Does Not Give A F$#% T-Shirt (limi...   \n",
       "322000   709707365                     CRYSTAL ANTLERS UNTITLED MOVIE   \n",
       "138572  1703704063                                drawing for dollars   \n",
       "325391      727286                       Offline Wikipedia iPhone app   \n",
       "122662  1622952265                                         Pantshirts   \n",
       "\n",
       "            category main_category currency   deadline     goal  \\\n",
       "169268       Fashion       Fashion      USD 2009-05-31   1000.0   \n",
       "322000        Shorts  Film & Video      USD 2009-07-20  80000.0   \n",
       "138572  Illustration           Art      USD 2009-05-03     20.0   \n",
       "325391      Software    Technology      USD 2009-07-14     99.0   \n",
       "122662       Fashion       Fashion      USD 2009-05-26   1900.0   \n",
       "\n",
       "                  launched country  usd_goal_real  \n",
       "169268 2009-04-21 21:02:48      US         1000.0  \n",
       "322000 2009-04-23 00:07:53      US        80000.0  \n",
       "138572 2009-04-24 21:52:03      US           20.0  \n",
       "325391 2009-04-25 17:36:21      US           99.0  \n",
       "122662 2009-04-27 14:10:39      US         1900.0  "
      ]
     },
     "execution_count": 60,
     "metadata": {},
     "output_type": "execute_result"
    }
   ],
   "source": [
    "features_df.head()"
   ]
  },
  {
   "cell_type": "code",
   "execution_count": 82,
   "id": "fce46488-251d-48c9-9674-85a3bf2ea9fd",
   "metadata": {},
   "outputs": [],
   "source": [
    "input_df = pd.DataFrame({\n",
    "    'ID': 10,\n",
    "    'name': 'Projeto Teste',\n",
    "    'category': 'Software',\n",
    "    'main_category': 'Technology',\n",
    "    'currency': 'USD',\n",
    "    'deadline': datetime(2015, 12, 10),\n",
    "    'goal': 100.0,\n",
    "    'launched': datetime(2015, 10, 10),\n",
    "    'country': 'US',\n",
    "    'usd_goal_real': 100.0\n",
    "}, index = [0])"
   ]
  },
  {
   "cell_type": "code",
   "execution_count": 83,
   "id": "1beae0fd-e22e-4940-9a21-93d9099b53d9",
   "metadata": {},
   "outputs": [
    {
     "data": {
      "text/html": [
       "<div>\n",
       "<style scoped>\n",
       "    .dataframe tbody tr th:only-of-type {\n",
       "        vertical-align: middle;\n",
       "    }\n",
       "\n",
       "    .dataframe tbody tr th {\n",
       "        vertical-align: top;\n",
       "    }\n",
       "\n",
       "    .dataframe thead th {\n",
       "        text-align: right;\n",
       "    }\n",
       "</style>\n",
       "<table border=\"1\" class=\"dataframe\">\n",
       "  <thead>\n",
       "    <tr style=\"text-align: right;\">\n",
       "      <th></th>\n",
       "      <th>ID</th>\n",
       "      <th>name</th>\n",
       "      <th>category</th>\n",
       "      <th>main_category</th>\n",
       "      <th>currency</th>\n",
       "      <th>deadline</th>\n",
       "      <th>goal</th>\n",
       "      <th>launched</th>\n",
       "      <th>country</th>\n",
       "      <th>usd_goal_real</th>\n",
       "    </tr>\n",
       "  </thead>\n",
       "  <tbody>\n",
       "    <tr>\n",
       "      <th>0</th>\n",
       "      <td>10</td>\n",
       "      <td>Projeto Teste</td>\n",
       "      <td>Software</td>\n",
       "      <td>Technology</td>\n",
       "      <td>USD</td>\n",
       "      <td>2015-12-10</td>\n",
       "      <td>100.0</td>\n",
       "      <td>2015-10-10</td>\n",
       "      <td>US</td>\n",
       "      <td>100.0</td>\n",
       "    </tr>\n",
       "  </tbody>\n",
       "</table>\n",
       "</div>"
      ],
      "text/plain": [
       "   ID           name  category main_category currency   deadline   goal  \\\n",
       "0  10  Projeto Teste  Software    Technology      USD 2015-12-10  100.0   \n",
       "\n",
       "    launched country  usd_goal_real  \n",
       "0 2015-10-10      US          100.0  "
      ]
     },
     "execution_count": 83,
     "metadata": {},
     "output_type": "execute_result"
    }
   ],
   "source": [
    "input_df"
   ]
  },
  {
   "cell_type": "markdown",
   "id": "2ad86205-486d-493b-b9b5-1a407f8b20bf",
   "metadata": {},
   "source": [
    "### Preprocessando os dados"
   ]
  },
  {
   "cell_type": "code",
   "execution_count": 84,
   "id": "84e327aa-48ef-489e-ae17-876c666b62e3",
   "metadata": {},
   "outputs": [],
   "source": [
    "input_df['project_duration'] = input_df['deadline'] - input_df['launched']\n",
    "input_df['project_duration'] = input_df['project_duration'].apply(lambda d: d.days)\n",
    "input_df['launched_month'] = input_df['launched'].apply(lambda d: d.month)\n",
    "input_df['launched_year'] = input_df['launched'].apply(lambda d: d.year)\n",
    "input_df['deadline_month'] = input_df['deadline'].apply(lambda d: d.month)\n",
    "input_df['deadline_year'] = input_df['deadline'].apply(lambda d: d.year)\n",
    "input_df.drop(columns=date_cols, inplace=True)"
   ]
  },
  {
   "cell_type": "code",
   "execution_count": 85,
   "id": "36ae242a-8835-4a40-8fa1-6d740c46de6f",
   "metadata": {},
   "outputs": [],
   "source": [
    "X_values = enc.transform(input_df[obj_cols[1:]])\n",
    "X_df = pd.DataFrame(X_values, columns=enc.get_feature_names_out())\n",
    "X_df.index = input_df.index\n",
    "input_df = pd.concat([input_df, X_df], axis=1)\n",
    "input_df.drop(columns=obj_cols, inplace=True)"
   ]
  },
  {
   "cell_type": "code",
   "execution_count": 86,
   "id": "08bb621e-18eb-40d5-897c-624453f99b60",
   "metadata": {},
   "outputs": [],
   "source": [
    "input_df_ = ss.transform(input_df)"
   ]
  },
  {
   "cell_type": "markdown",
   "id": "19582e36-69af-4ac8-a2e0-2d51131e10c0",
   "metadata": {},
   "source": [
    "### Prevendo o resultado"
   ]
  },
  {
   "cell_type": "code",
   "execution_count": 87,
   "id": "04ca3541-98e5-4674-953d-23af27753fdd",
   "metadata": {},
   "outputs": [
    {
     "data": {
      "text/plain": [
       "array([[0.60648477, 0.39351523]])"
      ]
     },
     "execution_count": 87,
     "metadata": {},
     "output_type": "execute_result"
    }
   ],
   "source": [
    "rf.predict_proba(input_df_)"
   ]
  },
  {
   "cell_type": "code",
   "execution_count": 88,
   "id": "1121a140-400e-4e7f-98e9-8d50440b05e3",
   "metadata": {},
   "outputs": [],
   "source": [
    "input_df_fashion = pd.DataFrame({\n",
    "    'ID': 10,\n",
    "    'name': 'Projeto Teste',\n",
    "    'category': 'Fashion',\n",
    "    'main_category': 'Fashion',\n",
    "    'currency': 'USD',\n",
    "    'deadline': datetime(2015, 12, 10),\n",
    "    'goal': 100.0,\n",
    "    'launched': datetime(2015, 10, 10),\n",
    "    'country': 'US',\n",
    "    'usd_goal_real': 100.0\n",
    "}, index = [0])"
   ]
  },
  {
   "cell_type": "code",
   "execution_count": 89,
   "id": "75e17365-85ed-4f7c-b1e4-48ab973a222e",
   "metadata": {},
   "outputs": [
    {
     "data": {
      "text/html": [
       "<div>\n",
       "<style scoped>\n",
       "    .dataframe tbody tr th:only-of-type {\n",
       "        vertical-align: middle;\n",
       "    }\n",
       "\n",
       "    .dataframe tbody tr th {\n",
       "        vertical-align: top;\n",
       "    }\n",
       "\n",
       "    .dataframe thead th {\n",
       "        text-align: right;\n",
       "    }\n",
       "</style>\n",
       "<table border=\"1\" class=\"dataframe\">\n",
       "  <thead>\n",
       "    <tr style=\"text-align: right;\">\n",
       "      <th></th>\n",
       "      <th>ID</th>\n",
       "      <th>name</th>\n",
       "      <th>category</th>\n",
       "      <th>main_category</th>\n",
       "      <th>currency</th>\n",
       "      <th>deadline</th>\n",
       "      <th>goal</th>\n",
       "      <th>launched</th>\n",
       "      <th>country</th>\n",
       "      <th>usd_goal_real</th>\n",
       "    </tr>\n",
       "  </thead>\n",
       "  <tbody>\n",
       "    <tr>\n",
       "      <th>0</th>\n",
       "      <td>10</td>\n",
       "      <td>Projeto Teste</td>\n",
       "      <td>Fashion</td>\n",
       "      <td>Fashion</td>\n",
       "      <td>USD</td>\n",
       "      <td>2015-12-10</td>\n",
       "      <td>100.0</td>\n",
       "      <td>2015-10-10</td>\n",
       "      <td>US</td>\n",
       "      <td>100.0</td>\n",
       "    </tr>\n",
       "  </tbody>\n",
       "</table>\n",
       "</div>"
      ],
      "text/plain": [
       "   ID           name category main_category currency   deadline   goal  \\\n",
       "0  10  Projeto Teste  Fashion       Fashion      USD 2015-12-10  100.0   \n",
       "\n",
       "    launched country  usd_goal_real  \n",
       "0 2015-10-10      US          100.0  "
      ]
     },
     "execution_count": 89,
     "metadata": {},
     "output_type": "execute_result"
    }
   ],
   "source": [
    "input_df_fashion"
   ]
  },
  {
   "cell_type": "code",
   "execution_count": 90,
   "id": "1dccff38-a3a2-42d0-ae9d-744cf5ed7dc4",
   "metadata": {},
   "outputs": [],
   "source": [
    "input_df_fashion['project_duration'] = input_df_fashion['deadline'] - input_df_fashion['launched']\n",
    "input_df_fashion['project_duration'] = input_df_fashion['project_duration'].apply(lambda d: d.days)\n",
    "input_df_fashion['launched_month'] = input_df_fashion['launched'].apply(lambda d: d.month)\n",
    "input_df_fashion['launched_year'] = input_df_fashion['launched'].apply(lambda d: d.year)\n",
    "input_df_fashion['deadline_month'] = input_df_fashion['deadline'].apply(lambda d: d.month)\n",
    "input_df_fashion['deadline_year'] = input_df_fashion['deadline'].apply(lambda d: d.year)\n",
    "input_df_fashion.drop(columns=date_cols, inplace=True)"
   ]
  },
  {
   "cell_type": "code",
   "execution_count": 91,
   "id": "07de3efe-53a3-4a53-9aad-8ca48ebf1bea",
   "metadata": {},
   "outputs": [],
   "source": [
    "X_values = enc.transform(input_df_fashion[obj_cols[1:]])\n",
    "X_df = pd.DataFrame(X_values, columns=enc.get_feature_names_out())\n",
    "X_df.index = input_df_fashion.index\n",
    "input_df_fashion = pd.concat([input_df_fashion, X_df], axis=1)\n",
    "input_df_fashion.drop(columns=obj_cols, inplace=True)"
   ]
  },
  {
   "cell_type": "code",
   "execution_count": 92,
   "id": "d8beeaf2-2795-4b1a-ad48-87a1f30db79a",
   "metadata": {},
   "outputs": [],
   "source": [
    "input_df_fashion = ss.transform(input_df_fashion)"
   ]
  },
  {
   "cell_type": "code",
   "execution_count": 93,
   "id": "d5b27ead-39ac-488c-b46d-199a7bc070c2",
   "metadata": {},
   "outputs": [
    {
     "data": {
      "text/plain": [
       "array([[0.65062916, 0.34937084]])"
      ]
     },
     "execution_count": 93,
     "metadata": {},
     "output_type": "execute_result"
    }
   ],
   "source": [
    "rf.predict_proba(input_df_fashion)"
   ]
  },
  {
   "cell_type": "code",
   "execution_count": 118,
   "id": "0a680e7a-613d-496e-87ba-15ea81e3dbf5",
   "metadata": {},
   "outputs": [
    {
     "data": {
      "text/html": [
       "<div>\n",
       "<style scoped>\n",
       "    .dataframe tbody tr th:only-of-type {\n",
       "        vertical-align: middle;\n",
       "    }\n",
       "\n",
       "    .dataframe tbody tr th {\n",
       "        vertical-align: top;\n",
       "    }\n",
       "\n",
       "    .dataframe thead th {\n",
       "        text-align: right;\n",
       "    }\n",
       "</style>\n",
       "<table border=\"1\" class=\"dataframe\">\n",
       "  <thead>\n",
       "    <tr style=\"text-align: right;\">\n",
       "      <th></th>\n",
       "      <th>ID</th>\n",
       "      <th>name</th>\n",
       "      <th>category</th>\n",
       "      <th>main_category</th>\n",
       "      <th>currency</th>\n",
       "      <th>deadline</th>\n",
       "      <th>goal</th>\n",
       "      <th>launched</th>\n",
       "      <th>country</th>\n",
       "      <th>usd_goal_real</th>\n",
       "    </tr>\n",
       "  </thead>\n",
       "  <tbody>\n",
       "    <tr>\n",
       "      <th>0</th>\n",
       "      <td>10</td>\n",
       "      <td>Projeto Teste</td>\n",
       "      <td>Music</td>\n",
       "      <td>Music</td>\n",
       "      <td>USD</td>\n",
       "      <td>2015-12-10</td>\n",
       "      <td>100.0</td>\n",
       "      <td>2015-10-10</td>\n",
       "      <td>US</td>\n",
       "      <td>100.0</td>\n",
       "    </tr>\n",
       "  </tbody>\n",
       "</table>\n",
       "</div>"
      ],
      "text/plain": [
       "   ID           name category main_category currency   deadline   goal  \\\n",
       "0  10  Projeto Teste    Music         Music      USD 2015-12-10  100.0   \n",
       "\n",
       "    launched country  usd_goal_real  \n",
       "0 2015-10-10      US          100.0  "
      ]
     },
     "execution_count": 118,
     "metadata": {},
     "output_type": "execute_result"
    }
   ],
   "source": [
    "input_df_music = pd.DataFrame({\n",
    "    'ID': 10,\n",
    "    'name': 'Projeto Teste',\n",
    "    'category': 'Music',\n",
    "    'main_category': 'Music',\n",
    "    'currency': 'USD',\n",
    "    'deadline': datetime(2015, 12, 10),\n",
    "    'goal': 100.0,\n",
    "    'launched': datetime(2015, 10, 10),\n",
    "    'country': 'US',\n",
    "    'usd_goal_real': 100.0\n",
    "}, index = [0])\n",
    "input_df_music"
   ]
  },
  {
   "cell_type": "code",
   "execution_count": 119,
   "id": "aa7f8e20-8a58-4c53-b771-50610f2023b6",
   "metadata": {},
   "outputs": [],
   "source": [
    "input_df_music['project_duration'] = input_df_music['deadline'] - input_df_music['launched']\n",
    "input_df_music['project_duration'] = input_df_music['project_duration'].apply(lambda d: d.days)\n",
    "input_df_music['launched_month'] = input_df_music['launched'].apply(lambda d: d.month)\n",
    "input_df_music['launched_year'] = input_df_music['launched'].apply(lambda d: d.year)\n",
    "input_df_music['deadline_month'] = input_df_music['deadline'].apply(lambda d: d.month)\n",
    "input_df_music['deadline_year'] = input_df_music['deadline'].apply(lambda d: d.year)\n",
    "input_df_music.drop(columns=date_cols, inplace=True)"
   ]
  },
  {
   "cell_type": "code",
   "execution_count": 120,
   "id": "f398991e-c9bc-4dd0-97b4-4878687dd6d3",
   "metadata": {},
   "outputs": [],
   "source": [
    "X_values = enc.transform(input_df_music[obj_cols[1:]])\n",
    "X_df = pd.DataFrame(X_values, columns=enc.get_feature_names_out())\n",
    "X_df.index = input_df_music.index\n",
    "input_df_music = pd.concat([input_df_music, X_df], axis=1)\n",
    "input_df_music.drop(columns=obj_cols, inplace=True)"
   ]
  },
  {
   "cell_type": "code",
   "execution_count": 121,
   "id": "f498b5d6-341d-446e-be16-75ae9fa53a47",
   "metadata": {},
   "outputs": [],
   "source": [
    "input_df_music = ss.transform(input_df_music)"
   ]
  },
  {
   "cell_type": "code",
   "execution_count": 122,
   "id": "815f43d6-5d0f-4bcd-8316-3186cc7cd194",
   "metadata": {},
   "outputs": [
    {
     "data": {
      "text/plain": [
       "array([[0.49347972, 0.50652028]])"
      ]
     },
     "execution_count": 122,
     "metadata": {},
     "output_type": "execute_result"
    }
   ],
   "source": [
    "rf.predict_proba(input_df_music)"
   ]
  },
  {
   "cell_type": "code",
   "execution_count": null,
   "id": "9ea33e48-bece-4cad-8691-5c3090079ff3",
   "metadata": {},
   "outputs": [],
   "source": []
  },
  {
   "cell_type": "code",
   "execution_count": null,
   "id": "063deadd-aaed-4b27-9a13-ea47a2555be2",
   "metadata": {},
   "outputs": [],
   "source": []
  },
  {
   "cell_type": "code",
   "execution_count": null,
   "id": "cd4b8119-b4e9-405c-b0a2-78b0c82b4add",
   "metadata": {},
   "outputs": [],
   "source": []
  },
  {
   "cell_type": "markdown",
   "id": "2a828eed-4e8b-46cf-8a4f-b7b858e7f158",
   "metadata": {},
   "source": [
    "## FLAML Benchmark"
   ]
  },
  {
   "cell_type": "code",
   "execution_count": 111,
   "id": "7838af5d-9836-4785-8340-ad665cf1fefb",
   "metadata": {},
   "outputs": [],
   "source": [
    "X_train_fl, input_df_fl, y_train_fl, y_test_fl = train_test_split(\n",
    "    features_df, label_df, test_size=0.3, shuffle=False)"
   ]
  },
  {
   "cell_type": "code",
   "execution_count": 112,
   "id": "8136b639-1fa7-485f-8a7a-ac0af3c47e68",
   "metadata": {
    "tags": []
   },
   "outputs": [
    {
     "name": "stderr",
     "output_type": "stream",
     "text": [
      "[flaml.automl: 12-12 12:45:50] {1943} INFO - task = classification\n",
      "[flaml.automl: 12-12 12:45:50] {1945} INFO - Data split method: stratified\n",
      "[flaml.automl: 12-12 12:45:50] {1949} INFO - Evaluation method: holdout\n",
      "[flaml.automl: 12-12 12:45:50] {2019} INFO - Minimizing error metric: 1-accuracy\n",
      "[flaml.automl: 12-12 12:45:50] {2071} INFO - List of ML learners in AutoML Run: ['lgbm', 'rf', 'catboost', 'xgboost', 'extra_tree', 'xgb_limitdepth', 'lrl1']\n",
      "[flaml.automl: 12-12 12:45:50] {2311} INFO - iteration 0, current learner lgbm\n",
      "[flaml.automl: 12-12 12:45:51] {2425} INFO - Estimated sufficient time budget=117557s. Estimated necessary time budget=2886s.\n",
      "[flaml.automl: 12-12 12:45:51] {2505} INFO -  at 3.7s,\testimator lgbm's best error=0.4074,\tbest estimator lgbm's best error=0.4074\n",
      "[flaml.automl: 12-12 12:45:51] {2311} INFO - iteration 1, current learner lgbm\n",
      "[flaml.automl: 12-12 12:45:51] {2505} INFO -  at 4.0s,\testimator lgbm's best error=0.4074,\tbest estimator lgbm's best error=0.4074\n",
      "[flaml.automl: 12-12 12:45:51] {2311} INFO - iteration 2, current learner lgbm\n",
      "[flaml.automl: 12-12 12:45:51] {2505} INFO -  at 4.3s,\testimator lgbm's best error=0.3406,\tbest estimator lgbm's best error=0.3406\n",
      "[flaml.automl: 12-12 12:45:51] {2311} INFO - iteration 3, current learner lgbm\n",
      "[flaml.automl: 12-12 12:45:52] {2505} INFO -  at 4.6s,\testimator lgbm's best error=0.3319,\tbest estimator lgbm's best error=0.3319\n",
      "[flaml.automl: 12-12 12:45:52] {2311} INFO - iteration 4, current learner lgbm\n",
      "[flaml.automl: 12-12 12:45:52] {2505} INFO -  at 5.0s,\testimator lgbm's best error=0.3319,\tbest estimator lgbm's best error=0.3319\n",
      "[flaml.automl: 12-12 12:45:52] {2311} INFO - iteration 5, current learner lgbm\n",
      "[flaml.automl: 12-12 12:45:52] {2505} INFO -  at 5.3s,\testimator lgbm's best error=0.3319,\tbest estimator lgbm's best error=0.3319\n",
      "[flaml.automl: 12-12 12:45:52] {2311} INFO - iteration 6, current learner lgbm\n",
      "[flaml.automl: 12-12 12:45:52] {2505} INFO -  at 5.6s,\testimator lgbm's best error=0.3319,\tbest estimator lgbm's best error=0.3319\n",
      "[flaml.automl: 12-12 12:45:52] {2311} INFO - iteration 7, current learner xgboost\n",
      "[flaml.automl: 12-12 12:45:53] {2505} INFO -  at 5.6s,\testimator xgboost's best error=0.3665,\tbest estimator lgbm's best error=0.3319\n",
      "[flaml.automl: 12-12 12:45:53] {2311} INFO - iteration 8, current learner xgboost\n",
      "[flaml.automl: 12-12 12:45:53] {2505} INFO -  at 5.7s,\testimator xgboost's best error=0.3665,\tbest estimator lgbm's best error=0.3319\n",
      "[flaml.automl: 12-12 12:45:53] {2311} INFO - iteration 9, current learner xgboost\n",
      "[flaml.automl: 12-12 12:45:53] {2505} INFO -  at 5.7s,\testimator xgboost's best error=0.3539,\tbest estimator lgbm's best error=0.3319\n",
      "[flaml.automl: 12-12 12:45:53] {2311} INFO - iteration 10, current learner xgboost\n",
      "[flaml.automl: 12-12 12:45:53] {2505} INFO -  at 5.8s,\testimator xgboost's best error=0.3481,\tbest estimator lgbm's best error=0.3319\n",
      "[flaml.automl: 12-12 12:45:53] {2311} INFO - iteration 11, current learner xgboost\n",
      "[flaml.automl: 12-12 12:45:53] {2505} INFO -  at 5.8s,\testimator xgboost's best error=0.3481,\tbest estimator lgbm's best error=0.3319\n",
      "[flaml.automl: 12-12 12:45:53] {2311} INFO - iteration 12, current learner xgboost\n",
      "[flaml.automl: 12-12 12:45:53] {2505} INFO -  at 5.9s,\testimator xgboost's best error=0.3481,\tbest estimator lgbm's best error=0.3319\n",
      "[flaml.automl: 12-12 12:45:53] {2311} INFO - iteration 13, current learner xgboost\n",
      "[flaml.automl: 12-12 12:45:53] {2505} INFO -  at 5.9s,\testimator xgboost's best error=0.3467,\tbest estimator lgbm's best error=0.3319\n",
      "[flaml.automl: 12-12 12:45:53] {2311} INFO - iteration 14, current learner lgbm\n",
      "[flaml.automl: 12-12 12:45:53] {2505} INFO -  at 6.2s,\testimator lgbm's best error=0.3319,\tbest estimator lgbm's best error=0.3319\n",
      "[flaml.automl: 12-12 12:45:53] {2311} INFO - iteration 15, current learner extra_tree\n",
      "[flaml.automl: 12-12 12:45:53] {2505} INFO -  at 6.4s,\testimator extra_tree's best error=0.4027,\tbest estimator lgbm's best error=0.3319\n",
      "[flaml.automl: 12-12 12:45:53] {2311} INFO - iteration 16, current learner extra_tree\n",
      "[flaml.automl: 12-12 12:45:53] {2505} INFO -  at 6.5s,\testimator extra_tree's best error=0.4027,\tbest estimator lgbm's best error=0.3319\n",
      "[flaml.automl: 12-12 12:45:53] {2311} INFO - iteration 17, current learner lgbm\n",
      "[flaml.automl: 12-12 12:45:54] {2505} INFO -  at 6.8s,\testimator lgbm's best error=0.3319,\tbest estimator lgbm's best error=0.3319\n",
      "[flaml.automl: 12-12 12:45:54] {2311} INFO - iteration 18, current learner extra_tree\n",
      "[flaml.automl: 12-12 12:45:54] {2505} INFO -  at 6.9s,\testimator extra_tree's best error=0.4027,\tbest estimator lgbm's best error=0.3319\n",
      "[flaml.automl: 12-12 12:45:54] {2311} INFO - iteration 19, current learner extra_tree\n",
      "[flaml.automl: 12-12 12:45:54] {2505} INFO -  at 7.1s,\testimator extra_tree's best error=0.4027,\tbest estimator lgbm's best error=0.3319\n",
      "[flaml.automl: 12-12 12:45:54] {2311} INFO - iteration 20, current learner extra_tree\n",
      "[flaml.automl: 12-12 12:45:54] {2505} INFO -  at 7.2s,\testimator extra_tree's best error=0.4027,\tbest estimator lgbm's best error=0.3319\n",
      "[flaml.automl: 12-12 12:45:54] {2311} INFO - iteration 21, current learner lgbm\n",
      "[flaml.automl: 12-12 12:45:54] {2505} INFO -  at 7.5s,\testimator lgbm's best error=0.3235,\tbest estimator lgbm's best error=0.3235\n",
      "[flaml.automl: 12-12 12:45:54] {2311} INFO - iteration 22, current learner lgbm\n",
      "[flaml.automl: 12-12 12:45:55] {2505} INFO -  at 7.9s,\testimator lgbm's best error=0.3235,\tbest estimator lgbm's best error=0.3235\n",
      "[flaml.automl: 12-12 12:45:55] {2311} INFO - iteration 23, current learner extra_tree\n",
      "[flaml.automl: 12-12 12:45:55] {2505} INFO -  at 8.0s,\testimator extra_tree's best error=0.4027,\tbest estimator lgbm's best error=0.3235\n",
      "[flaml.automl: 12-12 12:45:55] {2311} INFO - iteration 24, current learner extra_tree\n",
      "[flaml.automl: 12-12 12:45:55] {2505} INFO -  at 8.4s,\testimator extra_tree's best error=0.4027,\tbest estimator lgbm's best error=0.3235\n",
      "[flaml.automl: 12-12 12:45:55] {2311} INFO - iteration 25, current learner xgboost\n",
      "[flaml.automl: 12-12 12:45:55] {2505} INFO -  at 8.5s,\testimator xgboost's best error=0.3467,\tbest estimator lgbm's best error=0.3235\n",
      "[flaml.automl: 12-12 12:45:55] {2311} INFO - iteration 26, current learner extra_tree\n",
      "[flaml.automl: 12-12 12:45:56] {2505} INFO -  at 8.9s,\testimator extra_tree's best error=0.4027,\tbest estimator lgbm's best error=0.3235\n",
      "[flaml.automl: 12-12 12:45:56] {2311} INFO - iteration 27, current learner extra_tree\n",
      "[flaml.automl: 12-12 12:45:56] {2505} INFO -  at 9.0s,\testimator extra_tree's best error=0.4027,\tbest estimator lgbm's best error=0.3235\n",
      "[flaml.automl: 12-12 12:45:56] {2311} INFO - iteration 28, current learner extra_tree\n",
      "[flaml.automl: 12-12 12:45:56] {2505} INFO -  at 9.1s,\testimator extra_tree's best error=0.4027,\tbest estimator lgbm's best error=0.3235\n",
      "[flaml.automl: 12-12 12:45:56] {2311} INFO - iteration 29, current learner lgbm\n",
      "[flaml.automl: 12-12 12:45:56] {2505} INFO -  at 9.5s,\testimator lgbm's best error=0.3235,\tbest estimator lgbm's best error=0.3235\n",
      "[flaml.automl: 12-12 12:45:56] {2311} INFO - iteration 30, current learner lgbm\n",
      "[flaml.automl: 12-12 12:45:57] {2505} INFO -  at 9.9s,\testimator lgbm's best error=0.3235,\tbest estimator lgbm's best error=0.3235\n",
      "[flaml.automl: 12-12 12:45:57] {2311} INFO - iteration 31, current learner extra_tree\n",
      "[flaml.automl: 12-12 12:45:57] {2505} INFO -  at 10.0s,\testimator extra_tree's best error=0.4027,\tbest estimator lgbm's best error=0.3235\n",
      "[flaml.automl: 12-12 12:45:57] {2717} INFO - retrain lgbm for 0.5s\n",
      "[flaml.automl: 12-12 12:45:57] {2722} INFO - retrained model: LGBMClassifier(colsample_bytree=0.9285002286474459,\n",
      "               learning_rate=0.7260594590615893, max_bin=511,\n",
      "               min_child_samples=9, n_estimators=12, num_leaves=4,\n",
      "               reg_alpha=0.0036840681931986645, reg_lambda=0.7532480505730402,\n",
      "               verbose=-1)\n",
      "[flaml.automl: 12-12 12:45:57] {2100} INFO - fit succeeded\n",
      "[flaml.automl: 12-12 12:45:57] {2102} INFO - Time taken to find the best model: 7.541162967681885\n",
      "[flaml.automl: 12-12 12:45:57] {2116} WARNING - Time taken to find the best model is 75% of the provided time budget and not all estimators' hyperparameter search converged. Consider increasing the time budget.\n"
     ]
    }
   ],
   "source": [
    "from flaml import AutoML\n",
    "\n",
    "automl = AutoML()\n",
    "\n",
    "automl_settings = {\n",
    "    \"time_budget\": 10,  # in seconds\n",
    "    \"metric\": 'accuracy',\n",
    "    \"task\": 'classification',\n",
    "}\n",
    "\n",
    "automl.fit(\n",
    "    X_train_fl, \n",
    "    y_train_fl['state'], \n",
    "    **automl_settings)"
   ]
  },
  {
   "cell_type": "code",
   "execution_count": 113,
   "id": "92d9ba90-c2a7-455d-8675-39ed56aa3b26",
   "metadata": {},
   "outputs": [
    {
     "name": "stdout",
     "output_type": "stream",
     "text": [
      "LGBMClassifier(colsample_bytree=0.9285002286474459,\n",
      "               learning_rate=0.7260594590615893, max_bin=511,\n",
      "               min_child_samples=9, n_estimators=12, num_leaves=4,\n",
      "               reg_alpha=0.0036840681931986645, reg_lambda=0.7532480505730402,\n",
      "               verbose=-1)\n"
     ]
    }
   ],
   "source": [
    "# Print the best model\n",
    "print(automl.model.estimator)"
   ]
  },
  {
   "cell_type": "code",
   "execution_count": 114,
   "id": "e0a01ed6-c3b6-493d-a020-176521318674",
   "metadata": {},
   "outputs": [],
   "source": [
    "best_model = automl.model.estimator"
   ]
  },
  {
   "cell_type": "code",
   "execution_count": 115,
   "id": "44ae31fa-87d1-4174-a4c2-39cfab3d2920",
   "metadata": {},
   "outputs": [
    {
     "data": {
      "text/plain": [
       "<sklearn.metrics._plot.confusion_matrix.ConfusionMatrixDisplay at 0x20941cb90c8>"
      ]
     },
     "execution_count": 115,
     "metadata": {},
     "output_type": "execute_result"
    },
    {
     "data": {
      "image/png": "[encoded data removed]",
      "text/plain": [
       "<Figure size 432x288 with 2 Axes>"
      ]
     },
     "metadata": {
      "needs_background": "light"
     },
     "output_type": "display_data"
    }
   ],
   "source": [
    "ConfusionMatrixDisplay.from_predictions(automl.predict(input_df_fl), y_test_fl['state'], normalize='true')"
   ]
  },
  {
   "cell_type": "code",
   "execution_count": 117,
   "id": "980139f1-efb3-407e-b57a-6a8dfc8b9238",
   "metadata": {},
   "outputs": [
    {
     "name": "stdout",
     "output_type": "stream",
     "text": [
      "Accuracy AML: 0.6796578997618162\n"
     ]
    }
   ],
   "source": [
    "print(\"Accuracy AML:\",metrics.accuracy_score(y_test_fl['state'],automl.predict(input_df_fl)))"
   ]
  }
 ],
 "metadata": {
  "kernelspec": {
   "display_name": "Python 3 (ipykernel)",
   "language": "python",
   "name": "python3"
  },
  "language_info": {
   "codemirror_mode": {
    "name": "ipython",
    "version": 3
   },
   "file_extension": ".py",
   "mimetype": "text/x-python",
   "name": "python",
   "nbconvert_exporter": "python",
   "pygments_lexer": "ipython3",
   "version": "3.7.11"
  }
 },
 "nbformat": 4,
 "nbformat_minor": 5
}
